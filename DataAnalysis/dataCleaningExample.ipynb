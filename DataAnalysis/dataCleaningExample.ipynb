{
 "cells": [
  {
   "metadata": {},
   "cell_type": "markdown",
   "source": [
    "#Esempio di cleaning dei dati tramite sostituzione dei dati nulli con dati standardizzati dentro a un dataset tramite jupyter notebook\n",
    "##Librerie utilizzate"
   ],
   "id": "77b5b25df889690b"
  },
  {
   "metadata": {
    "ExecuteTime": {
     "end_time": "2024-06-24T13:40:17.102014Z",
     "start_time": "2024-06-24T13:40:17.098349Z"
    }
   },
   "cell_type": "code",
   "source": [
    "import os\n",
    "import pandas as pd\n",
    "import numpy as np\n",
    "from dateutil.parser import parse, ParserError"
   ],
   "id": "1d249ecba62eed2d",
   "outputs": [],
   "execution_count": 104
  },
  {
   "metadata": {},
   "cell_type": "markdown",
   "source": "##Importiamo, per esempio, il dataset players.csv",
   "id": "1aa4f7de055b3d93"
  },
  {
   "metadata": {
    "ExecuteTime": {
     "end_time": "2024-06-24T13:40:17.554220Z",
     "start_time": "2024-06-24T13:40:17.285273Z"
    }
   },
   "cell_type": "code",
   "source": [
    "df = pd.read_csv('../DataAnalysis/Datasets/players.csv')\n",
    "pd.options.display.max_rows = 400\n",
    "print(df.info())"
   ],
   "id": "92aa0736882f9458",
   "outputs": [
    {
     "name": "stdout",
     "output_type": "stream",
     "text": [
      "<class 'pandas.core.frame.DataFrame'>\n",
      "RangeIndex: 30302 entries, 0 to 30301\n",
      "Data columns (total 23 columns):\n",
      " #   Column                                Non-Null Count  Dtype  \n",
      "---  ------                                --------------  -----  \n",
      " 0   player_id                             30302 non-null  int64  \n",
      " 1   first_name                            28337 non-null  object \n",
      " 2   last_name                             30302 non-null  object \n",
      " 3   name                                  30302 non-null  object \n",
      " 4   last_season                           30302 non-null  int64  \n",
      " 5   current_club_id                       30302 non-null  int64  \n",
      " 6   player_code                           30302 non-null  object \n",
      " 7   country_of_birth                      27613 non-null  object \n",
      " 8   city_of_birth                         28099 non-null  object \n",
      " 9   country_of_citizenship                29759 non-null  object \n",
      " 10  date_of_birth                         30255 non-null  object \n",
      " 11  sub_position                          30130 non-null  object \n",
      " 12  position                              30302 non-null  object \n",
      " 13  foot                                  27913 non-null  object \n",
      " 14  height_in_cm                          28204 non-null  float64\n",
      " 15  market_value_in_eur                   19383 non-null  float64\n",
      " 16  highest_market_value_in_eur           28981 non-null  float64\n",
      " 17  contract_expiration_date              18835 non-null  object \n",
      " 18  agent_name                            14941 non-null  object \n",
      " 19  image_url                             30302 non-null  object \n",
      " 20  url                                   30302 non-null  object \n",
      " 21  current_club_domestic_competition_id  30302 non-null  object \n",
      " 22  current_club_name                     30302 non-null  object \n",
      "dtypes: float64(3), int64(3), object(17)\n",
      "memory usage: 5.3+ MB\n",
      "None\n"
     ]
    }
   ],
   "execution_count": 105
  },
  {
   "metadata": {},
   "cell_type": "markdown",
   "source": "##Osserviamo adesso quali colonne contengono campi vuoti al loro interno e la quantità di tali campi",
   "id": "50feedb1a6220684"
  },
  {
   "metadata": {
    "ExecuteTime": {
     "end_time": "2024-06-24T13:40:17.588958Z",
     "start_time": "2024-06-24T13:40:17.556263Z"
    }
   },
   "cell_type": "code",
   "source": [
    "colonne_con_campi_vuoti = df.columns[df.isnull().any()]\n",
    "print(\"Colonne con campi vuoti:\")\n",
    "print(colonne_con_campi_vuoti)"
   ],
   "id": "bb7c9083cf81f7e1",
   "outputs": [
    {
     "name": "stdout",
     "output_type": "stream",
     "text": [
      "Colonne con campi vuoti:\n",
      "Index(['first_name', 'country_of_birth', 'city_of_birth',\n",
      "       'country_of_citizenship', 'date_of_birth', 'sub_position', 'foot',\n",
      "       'height_in_cm', 'market_value_in_eur', 'highest_market_value_in_eur',\n",
      "       'contract_expiration_date', 'agent_name'],\n",
      "      dtype='object')\n"
     ]
    }
   ],
   "execution_count": 106
  },
  {
   "metadata": {
    "ExecuteTime": {
     "end_time": "2024-06-24T13:40:17.610530Z",
     "start_time": "2024-06-24T13:40:17.591084Z"
    }
   },
   "cell_type": "code",
   "source": [
    "for colonna in colonne_con_campi_vuoti:\n",
    "    conteggio_campi_vuoti = df[colonna].isnull().sum()\n",
    "    print(f\"Colonna '{colonna}' ha {conteggio_campi_vuoti} campi vuoti.\")"
   ],
   "id": "68fc3a70181acc08",
   "outputs": [
    {
     "name": "stdout",
     "output_type": "stream",
     "text": [
      "Colonna 'first_name' ha 1965 campi vuoti.\n",
      "Colonna 'country_of_birth' ha 2689 campi vuoti.\n",
      "Colonna 'city_of_birth' ha 2203 campi vuoti.\n",
      "Colonna 'country_of_citizenship' ha 543 campi vuoti.\n",
      "Colonna 'date_of_birth' ha 47 campi vuoti.\n",
      "Colonna 'sub_position' ha 172 campi vuoti.\n",
      "Colonna 'foot' ha 2389 campi vuoti.\n",
      "Colonna 'height_in_cm' ha 2098 campi vuoti.\n",
      "Colonna 'market_value_in_eur' ha 10919 campi vuoti.\n",
      "Colonna 'highest_market_value_in_eur' ha 1321 campi vuoti.\n",
      "Colonna 'contract_expiration_date' ha 11467 campi vuoti.\n",
      "Colonna 'agent_name' ha 15361 campi vuoti.\n"
     ]
    }
   ],
   "execution_count": 107
  },
  {
   "metadata": {},
   "cell_type": "markdown",
   "source": "##Cambiamo adesso i valori nulli con i corretti valori di default",
   "id": "286b31f184e84f57"
  },
  {
   "metadata": {
    "ExecuteTime": {
     "end_time": "2024-06-24T13:40:17.661766Z",
     "start_time": "2024-06-24T13:40:17.612608Z"
    }
   },
   "cell_type": "code",
   "source": [
    "df.fillna({\"foot\": \"null\"}, inplace=True)\n",
    "df.fillna({\"market_value_in_eur\": -1}, inplace=True)\n",
    "df.fillna({\"sub_position\": \"Missing\"}, inplace=True)\n",
    "df.fillna({\"first_name\": \"Missing\"}, inplace=True)\n",
    "df.fillna({\"country_of_birth\": \"Missing\"}, inplace=True)\n",
    "df.fillna({\"city_of_birth\": \"Missing\"}, inplace=True)\n",
    "df.fillna({\"country_of_citizenship\": \"Missing\"}, inplace=True)\n",
    "df.fillna({\"height_in_cm\": -1}, inplace=True)\n",
    "df.fillna({\"market_value_in_eur\": -1}, inplace=True)\n",
    "df.fillna({\"highest_market_value_in_eur\": -1}, inplace=True)\n",
    "df.fillna({\"agent_name\": \"Missing\"}, inplace=True)\n",
    "print(df)"
   ],
   "id": "fe55812e847f9b82",
   "outputs": [
    {
     "name": "stdout",
     "output_type": "stream",
     "text": [
      "       player_id first_name    last_name                name  last_season  \\\n",
      "0            598       Timo   Hildebrand     Timo Hildebrand         2014   \n",
      "1            670     Martin       Petrov       Martin Petrov         2012   \n",
      "2           1323     Martin      Amedick      Martin Amedick         2012   \n",
      "3           3195   Jermaine      Pennant    Jermaine Pennant         2013   \n",
      "4           3259     Damien         Duff         Damien Duff         2013   \n",
      "...          ...        ...          ...                 ...          ...   \n",
      "30297     371851       Jaka        Bijol          Jaka Bijol         2023   \n",
      "30298     537171     Semuel  Pizzignacco  Semuel Pizzignacco         2018   \n",
      "30299     586756      Festy      Ebosele       Festy Ebosele         2023   \n",
      "30300     704692     Nicolò      Cocetta      Nicolò Cocetta         2022   \n",
      "30301     925584       Axel     Guessand       Axel Guessand         2023   \n",
      "\n",
      "       current_club_id         player_code country_of_birth  \\\n",
      "0                   24     timo-hildebrand          Germany   \n",
      "1                  714       martin-petrov         Bulgaria   \n",
      "2                   24      martin-amedick          Germany   \n",
      "3                  512    jermaine-pennant          England   \n",
      "4                  931         damien-duff          Ireland   \n",
      "...                ...                 ...              ...   \n",
      "30297              410          jaka-bijol         Slovenia   \n",
      "30298              410  semuel-pizzignacco            Italy   \n",
      "30299              410       festy-ebosele          Ireland   \n",
      "30300              410      nicolo-cocetta            Italy   \n",
      "30301              410       axel-guessand           France   \n",
      "\n",
      "                city_of_birth country_of_citizenship  ...   foot height_in_cm  \\\n",
      "0                       Worms                Germany  ...   null         -1.0   \n",
      "1                      Vratsa               Bulgaria  ...   null         -1.0   \n",
      "2                   Paderborn                Germany  ...   null         -1.0   \n",
      "3                  Nottingham                England  ...  right        173.0   \n",
      "4                  Ballyboden                Ireland  ...   left        177.0   \n",
      "...                       ...                    ...  ...    ...          ...   \n",
      "30297                Vuzenica               Slovenia  ...  right        190.0   \n",
      "30298              Monfalcone                  Italy  ...  right        188.0   \n",
      "30299    Enniscorthy, Wexford                Ireland  ...  right        180.0   \n",
      "30300  San Daniele del Friuli                  Italy  ...   null         -1.0   \n",
      "30301            Schiltigheim                 France  ...   left        184.0   \n",
      "\n",
      "      market_value_in_eur highest_market_value_in_eur  \\\n",
      "0                    -1.0                  10000000.0   \n",
      "1                    -1.0                  12000000.0   \n",
      "2                    -1.0                   2750000.0   \n",
      "3                    -1.0                  10500000.0   \n",
      "4                    -1.0                  17000000.0   \n",
      "...                   ...                         ...   \n",
      "30297          10000000.0                  10000000.0   \n",
      "30298            325000.0                    350000.0   \n",
      "30299           4500000.0                   4500000.0   \n",
      "30300             75000.0                     75000.0   \n",
      "30301            250000.0                    300000.0   \n",
      "\n",
      "       contract_expiration_date         agent_name  \\\n",
      "0                           NaN            Missing   \n",
      "1                           NaN                IFM   \n",
      "2                           NaN            Missing   \n",
      "3                           NaN         Andrew Sky   \n",
      "4                           NaN            Missing   \n",
      "...                         ...                ...   \n",
      "30297       2027-06-30 00:00:00          MSC GROUP   \n",
      "30298       2025-06-30 00:00:00            Missing   \n",
      "30299       2027-06-30 00:00:00  The Kulture Group   \n",
      "30300       2023-06-30 00:00:00            Missing   \n",
      "30301       2027-06-30 00:00:00        CAA Stellar   \n",
      "\n",
      "                                               image_url  \\\n",
      "0      https://img.a.transfermarkt.technology/portrai...   \n",
      "1      https://img.a.transfermarkt.technology/portrai...   \n",
      "2      https://img.a.transfermarkt.technology/portrai...   \n",
      "3      https://img.a.transfermarkt.technology/portrai...   \n",
      "4      https://img.a.transfermarkt.technology/portrai...   \n",
      "...                                                  ...   \n",
      "30297  https://img.a.transfermarkt.technology/portrai...   \n",
      "30298  https://img.a.transfermarkt.technology/portrai...   \n",
      "30299  https://img.a.transfermarkt.technology/portrai...   \n",
      "30300  https://img.a.transfermarkt.technology/portrai...   \n",
      "30301  https://img.a.transfermarkt.technology/portrai...   \n",
      "\n",
      "                                                     url  \\\n",
      "0      https://www.transfermarkt.co.uk/timo-hildebran...   \n",
      "1      https://www.transfermarkt.co.uk/martin-petrov/...   \n",
      "2      https://www.transfermarkt.co.uk/martin-amedick...   \n",
      "3      https://www.transfermarkt.co.uk/jermaine-penna...   \n",
      "4      https://www.transfermarkt.co.uk/damien-duff/pr...   \n",
      "...                                                  ...   \n",
      "30297  https://www.transfermarkt.co.uk/jaka-bijol/pro...   \n",
      "30298  https://www.transfermarkt.co.uk/semuel-pizzign...   \n",
      "30299  https://www.transfermarkt.co.uk/festy-ebosele/...   \n",
      "30300  https://www.transfermarkt.co.uk/nicolo-cocetta...   \n",
      "30301  https://www.transfermarkt.co.uk/axel-guessand/...   \n",
      "\n",
      "      current_club_domestic_competition_id       current_club_name  \n",
      "0                                       L1     Eintracht Frankfurt  \n",
      "1                                      ES1  RCD Espanyol Barcelona  \n",
      "2                                       L1     Eintracht Frankfurt  \n",
      "3                                      GB1              Stoke City  \n",
      "4                                      GB1               Fulham FC  \n",
      "...                                    ...                     ...  \n",
      "30297                                  IT1          Udinese Calcio  \n",
      "30298                                  IT1          Udinese Calcio  \n",
      "30299                                  IT1          Udinese Calcio  \n",
      "30300                                  IT1          Udinese Calcio  \n",
      "30301                                  IT1          Udinese Calcio  \n",
      "\n",
      "[30302 rows x 23 columns]\n"
     ]
    }
   ],
   "execution_count": 108
  },
  {
   "metadata": {},
   "cell_type": "markdown",
   "source": "##Cambiamo il formato della data di \"contract_expiration_date\" e \"date_of_birth\" rimpiazzando i valori \"null\" con la data di default \"1900-01-01\"",
   "id": "84b42c2e0192c9e3"
  },
  {
   "metadata": {
    "ExecuteTime": {
     "end_time": "2024-06-24T13:40:17.732007Z",
     "start_time": "2024-06-24T13:40:17.662771Z"
    }
   },
   "cell_type": "code",
   "source": [
    "df.fillna({\"contract_expiration_date\": \"1900-01-01 00:00:00\"}, inplace=True)\n",
    "df[\"contract_expiration_date\"] = pd.to_datetime(df[\"contract_expiration_date\"]).dt.normalize()\n",
    "#utilizzo il formato mixed poichè date of birth presenta valori letterali nel dataset, che impedirebbero la pulitura senza tale specifica dato che sto inserendo solo caratteri numerici\n",
    "df.fillna({\"date_of_birth\": \"1900-01-01 00:00:00\"}, inplace=True)\n",
    "df[\"date_of_birth\"] = pd.to_datetime(df[\"date_of_birth\"], format = 'mixed').dt.normalize()\n",
    "\n",
    "print(df.info())"
   ],
   "id": "ccbc7ec847c92719",
   "outputs": [
    {
     "name": "stdout",
     "output_type": "stream",
     "text": [
      "<class 'pandas.core.frame.DataFrame'>\n",
      "RangeIndex: 30302 entries, 0 to 30301\n",
      "Data columns (total 23 columns):\n",
      " #   Column                                Non-Null Count  Dtype         \n",
      "---  ------                                --------------  -----         \n",
      " 0   player_id                             30302 non-null  int64         \n",
      " 1   first_name                            30302 non-null  object        \n",
      " 2   last_name                             30302 non-null  object        \n",
      " 3   name                                  30302 non-null  object        \n",
      " 4   last_season                           30302 non-null  int64         \n",
      " 5   current_club_id                       30302 non-null  int64         \n",
      " 6   player_code                           30302 non-null  object        \n",
      " 7   country_of_birth                      30302 non-null  object        \n",
      " 8   city_of_birth                         30302 non-null  object        \n",
      " 9   country_of_citizenship                30302 non-null  object        \n",
      " 10  date_of_birth                         30302 non-null  datetime64[ns]\n",
      " 11  sub_position                          30302 non-null  object        \n",
      " 12  position                              30302 non-null  object        \n",
      " 13  foot                                  30302 non-null  object        \n",
      " 14  height_in_cm                          30302 non-null  float64       \n",
      " 15  market_value_in_eur                   30302 non-null  float64       \n",
      " 16  highest_market_value_in_eur           30302 non-null  float64       \n",
      " 17  contract_expiration_date              30302 non-null  datetime64[ns]\n",
      " 18  agent_name                            30302 non-null  object        \n",
      " 19  image_url                             30302 non-null  object        \n",
      " 20  url                                   30302 non-null  object        \n",
      " 21  current_club_domestic_competition_id  30302 non-null  object        \n",
      " 22  current_club_name                     30302 non-null  object        \n",
      "dtypes: datetime64[ns](2), float64(3), int64(3), object(15)\n",
      "memory usage: 5.3+ MB\n",
      "None\n"
     ]
    }
   ],
   "execution_count": 109
  },
  {
   "metadata": {},
   "cell_type": "markdown",
   "source": "##Convertiamo tipi di oggetti nei relativi tipi corretti",
   "id": "37c5f5f5e9027813"
  },
  {
   "metadata": {
    "ExecuteTime": {
     "end_time": "2024-06-24T13:40:17.768360Z",
     "start_time": "2024-06-24T13:40:17.736018Z"
    }
   },
   "cell_type": "code",
   "source": [
    "df[\"market_value_in_eur\"] = df[\"market_value_in_eur\"].astype(float)\n",
    "df[\"first_name\"] = df[\"first_name\"].astype(str)\n",
    "print(df.info())"
   ],
   "id": "953a50e293f396a8",
   "outputs": [
    {
     "name": "stdout",
     "output_type": "stream",
     "text": [
      "<class 'pandas.core.frame.DataFrame'>\n",
      "RangeIndex: 30302 entries, 0 to 30301\n",
      "Data columns (total 23 columns):\n",
      " #   Column                                Non-Null Count  Dtype         \n",
      "---  ------                                --------------  -----         \n",
      " 0   player_id                             30302 non-null  int64         \n",
      " 1   first_name                            30302 non-null  object        \n",
      " 2   last_name                             30302 non-null  object        \n",
      " 3   name                                  30302 non-null  object        \n",
      " 4   last_season                           30302 non-null  int64         \n",
      " 5   current_club_id                       30302 non-null  int64         \n",
      " 6   player_code                           30302 non-null  object        \n",
      " 7   country_of_birth                      30302 non-null  object        \n",
      " 8   city_of_birth                         30302 non-null  object        \n",
      " 9   country_of_citizenship                30302 non-null  object        \n",
      " 10  date_of_birth                         30302 non-null  datetime64[ns]\n",
      " 11  sub_position                          30302 non-null  object        \n",
      " 12  position                              30302 non-null  object        \n",
      " 13  foot                                  30302 non-null  object        \n",
      " 14  height_in_cm                          30302 non-null  float64       \n",
      " 15  market_value_in_eur                   30302 non-null  float64       \n",
      " 16  highest_market_value_in_eur           30302 non-null  float64       \n",
      " 17  contract_expiration_date              30302 non-null  datetime64[ns]\n",
      " 18  agent_name                            30302 non-null  object        \n",
      " 19  image_url                             30302 non-null  object        \n",
      " 20  url                                   30302 non-null  object        \n",
      " 21  current_club_domestic_competition_id  30302 non-null  object        \n",
      " 22  current_club_name                     30302 non-null  object        \n",
      "dtypes: datetime64[ns](2), float64(3), int64(3), object(15)\n",
      "memory usage: 5.3+ MB\n",
      "None\n"
     ]
    }
   ],
   "execution_count": 110
  },
  {
   "metadata": {},
   "cell_type": "markdown",
   "source": "#Adesso ricapitoliamo il tutto in unica funzione, def save_cleaned_data, che andrà a prendere il nostro dataset, lo pulirà, convertirà i tipi di oggetti nei relativi tipi corretti e lo salverà nella cartella \"cleanDataset\"",
   "id": "8fccc4002f77452c"
  },
  {
   "metadata": {
    "ExecuteTime": {
     "end_time": "2024-06-24T13:40:18.235176Z",
     "start_time": "2024-06-24T13:40:17.769366Z"
    }
   },
   "cell_type": "code",
   "source": [
    "def save_cleaned_data(dataframes, output_folder=\"cleanDatasets\"):\n",
    "    \"\"\"\n",
    "    Saves cleaned DataFrames to separate CSV files in the specified output folder.\n",
    "\n",
    "    Args:\n",
    "        dataframes (dict): A dictionary mapping DataFrame names (keys) to DataFrames (values).\n",
    "        output_folder (str, optional): The path to the output folder. Defaults to \"cleanDatasets\".\n",
    "\n",
    "    Raises:\n",
    "        OSError: If there's an issue creating the output directory (if it doesn't exist).\n",
    "    \"\"\"\n",
    "\n",
    "    # Creo la directory di output se non esiste\n",
    "    output_dir = os.path.join(os.getcwd(), output_folder)\n",
    "    if not os.path.exists(output_dir):\n",
    "        try:\n",
    "            os.makedirs(output_dir)\n",
    "        except OSError:\n",
    "            raise OSError(f\"Could not create output directory: {output_dir}\")\n",
    "\n",
    "    # pulisco il dataframe\n",
    "    for name, df in dataframes.items():\n",
    "        # Leggi l'originale ( assumendo che sia un file .csv\n",
    "        if name == \"competitions\":\n",
    "            df = pd.read_csv('../DataAnalysis/Datasets/players.csv')\n",
    "\n",
    "            # Logica per la pulizia dei dataframes\n",
    "            #tramite il metodo fillna riempio i valori vuoti con valori generici, -1 in caso di valori numerici e \"Missing\" per valori testuali\n",
    "            df.fillna({\"foot\": \"null\"}, inplace=True)\n",
    "            df.fillna({\"market_value_in_eur\": -1}, inplace=True)\n",
    "            df.fillna({\"sub_position\": \"Missing\"}, inplace=True)\n",
    "            df.fillna({\"first_name\": \"Missing\"}, inplace=True)\n",
    "            df.fillna({\"country_of_birth\": \"Missing\"}, inplace=True)\n",
    "            df.fillna({\"city_of_birth\": \"Missing\"}, inplace=True)\n",
    "            df.fillna({\"country_of_citizenship\": \"Missing\"}, inplace=True)\n",
    "            df.fillna({\"height_in_cm\": -1}, inplace=True)\n",
    "            df.fillna({\"market_value_in_eur\": -1}, inplace=True)\n",
    "            df.fillna({\"highest_market_value_in_eur\": -1}, inplace=True)\n",
    "            df.fillna({\"agent_name\": \"Missing\"}, inplace=True)\n",
    "            df.fillna({\"contract_expiration_date\": \"1900-01-01 00:00:00\"}, inplace=True)\n",
    "            df[\"contract_expiration_date\"] = pd.to_datetime(df[\"contract_expiration_date\"]).dt.normalize()\n",
    "            df.fillna({\"date_of_birth\": \"1900-01-01 00:00:00\"}, inplace=True)\n",
    "            df[\"date_of_birth\"] = pd.to_datetime(df[\"date_of_birth\"], format = 'mixed').dt.normalize()\n",
    "            df[\"market_value_in_eur\"] = df[\"market_value_in_eur\"].astype(float)\n",
    "            df[\"first_name\"] = df[\"first_name\"].astype(str)\n",
    "\n",
    "        # Salvo il dataframe pulito\n",
    "        output_file = os.path.join(output_dir, f\"{name}.csv\")\n",
    "        df.to_csv(output_file, index=False)  # Salva senza indice\n",
    "\n",
    "#definisco il dataframe players pulito\n",
    "dataframes = {\n",
    "    \"players\": df\n",
    "\n",
    "}\n",
    "\n",
    "#salvo il dataframe players pulito\n",
    "save_cleaned_data(dataframes)"
   ],
   "id": "437b7c240358c9a1",
   "outputs": [],
   "execution_count": 111
  },
  {
   "metadata": {},
   "cell_type": "markdown",
   "source": "##Puliamo adesso il dataset \"Competitions\"",
   "id": "da215e4eb8968029"
  },
  {
   "metadata": {
    "ExecuteTime": {
     "end_time": "2024-06-24T13:40:18.246621Z",
     "start_time": "2024-06-24T13:40:18.236180Z"
    }
   },
   "cell_type": "code",
   "source": [
    "dfcompetitions = pd.read_csv('../DataAnalysis/Datasets/competitions.csv')\n",
    "pd.options.display.max_rows = 400\n",
    "print(dfcompetitions.info())"
   ],
   "id": "4ad8521db1a15c42",
   "outputs": [
    {
     "name": "stdout",
     "output_type": "stream",
     "text": [
      "<class 'pandas.core.frame.DataFrame'>\n",
      "RangeIndex: 43 entries, 0 to 42\n",
      "Data columns (total 10 columns):\n",
      " #   Column                Non-Null Count  Dtype \n",
      "---  ------                --------------  ----- \n",
      " 0   competition_id        43 non-null     object\n",
      " 1   competition_code      43 non-null     object\n",
      " 2   name                  43 non-null     object\n",
      " 3   sub_type              43 non-null     object\n",
      " 4   type                  43 non-null     object\n",
      " 5   country_id            43 non-null     int64 \n",
      " 6   country_name          36 non-null     object\n",
      " 7   domestic_league_code  36 non-null     object\n",
      " 8   confederation         43 non-null     object\n",
      " 9   url                   43 non-null     object\n",
      "dtypes: int64(1), object(9)\n",
      "memory usage: 3.5+ KB\n",
      "None\n"
     ]
    }
   ],
   "execution_count": 112
  },
  {
   "metadata": {},
   "cell_type": "markdown",
   "source": "###Anche qui osserviamo quali colonne contengono valori nulli",
   "id": "5acd02d648476702"
  },
  {
   "metadata": {
    "ExecuteTime": {
     "end_time": "2024-06-24T13:40:18.258456Z",
     "start_time": "2024-06-24T13:40:18.247624Z"
    }
   },
   "cell_type": "code",
   "source": [
    "# Trovo le colonne con celle vuote\n",
    "empty_columns_cells = dfcompetitions.columns[dfcompetitions.isnull().any()]\n",
    "print(\"Colonne con campi vuoti:\")\n",
    "print(empty_columns_cells)\n",
    "# Conto le celle vuote per ogni colonna\n",
    "for col in empty_columns_cells:\n",
    "    conteggio_campi_vuoti = dfcompetitions[col].isnull().sum()\n",
    "    print(f\"Colonna '{col}' ha {conteggio_campi_vuoti} campi vuoti.\")"
   ],
   "id": "1fca97bd5072a4a1",
   "outputs": [
    {
     "name": "stdout",
     "output_type": "stream",
     "text": [
      "Colonne con campi vuoti:\n",
      "Index(['country_name', 'domestic_league_code'], dtype='object')\n",
      "Colonna 'country_name' ha 7 campi vuoti.\n",
      "Colonna 'domestic_league_code' ha 7 campi vuoti.\n"
     ]
    }
   ],
   "execution_count": 113
  },
  {
   "metadata": {
    "ExecuteTime": {
     "end_time": "2024-06-24T13:40:18.271555Z",
     "start_time": "2024-06-24T13:40:18.260460Z"
    }
   },
   "cell_type": "code",
   "source": [
    "def save_cleaned_data(dataframes, output_folder=\"cleanDatasets\"):\n",
    "    \"\"\"\n",
    "    Saves cleaned DataFrames to separate CSV files in the specified output folder.\n",
    "\n",
    "    Args:\n",
    "        dataframes (dict): A dictionary mapping DataFrame names (keys) to DataFrames (values).\n",
    "        output_folder (str, optional): The path to the output folder. Defaults to \"cleanDatasets\".\n",
    "\n",
    "    Raises:\n",
    "        OSError: If there's an issue creating the output directory (if it doesn't exist).\n",
    "    \"\"\"\n",
    "\n",
    "    # Creo la directory di output se non esiste\n",
    "    output_dir = os.path.join(os.getcwd(), output_folder)\n",
    "    if not os.path.exists(output_dir):\n",
    "        try:\n",
    "            os.makedirs(output_dir)\n",
    "        except OSError:\n",
    "            raise OSError(f\"Could not create output directory: {output_dir}\")\n",
    "\n",
    "    # pulisco il dataframe\n",
    "    for name, dfcompetitions in dataframes.items():\n",
    "        # Leggi l'originale ( assumendo che sia un file .csv\n",
    "        if name == \"competitions\":\n",
    "            dfcompetitions = pd.read_csv('../DataAnalysis/Datasets/competitions.csv')\n",
    "\n",
    "            # Logica per la pulizia dei dataframes\n",
    "            #tramite il metodo fillna riempio i valori vuoti con valori generici, -1 in caso di valori numerici e \"Missing\" per valori testuali\n",
    "            dfcompetitions.fillna({\"country_name\": \"Missing\"}, inplace=True)\n",
    "            dfcompetitions.fillna({\"domestic_league_code\": \"Missing\"}, inplace=True)\n",
    "\n",
    "        # Salvo il dataframe pulito\n",
    "        output_file = os.path.join(output_dir, f\"{name}.csv\")\n",
    "        dfcompetitions.to_csv(output_file, index=False)  # Salva senza indice\n",
    "\n",
    "#definisco il dataframe competitions pulito\n",
    "dataframes = {\n",
    "    \"competitions\": dfcompetitions\n",
    "\n",
    "}\n",
    "\n",
    "#salvo il dataframe competitions pulito\n",
    "save_cleaned_data(dataframes)"
   ],
   "id": "50ffd189fd89ec8b",
   "outputs": [],
   "execution_count": 114
  },
  {
   "metadata": {},
   "cell_type": "markdown",
   "source": "##Now let's clean the dataset \"clubs\", osserviamo le colonne con valori nulli e andiamo a riempirle con dati generici indicanti appunto la mancanza di dati",
   "id": "ce531735f13e4786"
  },
  {
   "metadata": {
    "ExecuteTime": {
     "end_time": "2024-06-24T13:40:18.288349Z",
     "start_time": "2024-06-24T13:40:18.272562Z"
    }
   },
   "cell_type": "code",
   "source": [
    "dfclub = pd.read_csv('../DataAnalysis/Datasets/clubs.csv')\n",
    "pd.options.display.max_rows = 400\n",
    "print(dfclub.info())"
   ],
   "id": "d2b1925828cc6f52",
   "outputs": [
    {
     "name": "stdout",
     "output_type": "stream",
     "text": [
      "<class 'pandas.core.frame.DataFrame'>\n",
      "RangeIndex: 426 entries, 0 to 425\n",
      "Data columns (total 16 columns):\n",
      " #   Column                   Non-Null Count  Dtype  \n",
      "---  ------                   --------------  -----  \n",
      " 0   club_id                  426 non-null    int64  \n",
      " 1   club_code                426 non-null    object \n",
      " 2   name                     426 non-null    object \n",
      " 3   domestic_competition_id  426 non-null    object \n",
      " 4   total_market_value       0 non-null      float64\n",
      " 5   squad_size               426 non-null    int64  \n",
      " 6   average_age              388 non-null    float64\n",
      " 7   foreigners_number        426 non-null    int64  \n",
      " 8   foreigners_percentage    379 non-null    float64\n",
      " 9   national_team_players    426 non-null    int64  \n",
      " 10  stadium_name             426 non-null    object \n",
      " 11  stadium_seats            426 non-null    int64  \n",
      " 12  net_transfer_record      426 non-null    object \n",
      " 13  coach_name               0 non-null      float64\n",
      " 14  last_season              426 non-null    int64  \n",
      " 15  url                      426 non-null    object \n",
      "dtypes: float64(4), int64(6), object(6)\n",
      "memory usage: 53.4+ KB\n",
      "None\n"
     ]
    }
   ],
   "execution_count": 115
  },
  {
   "metadata": {
    "ExecuteTime": {
     "end_time": "2024-06-24T13:40:18.296191Z",
     "start_time": "2024-06-24T13:40:18.289366Z"
    }
   },
   "cell_type": "code",
   "source": [
    "# Trovo le colonne con celle vuote\n",
    "empty_columns_cells = dfclub.columns[dfclub.isnull().any()]\n",
    "\n",
    "print(\"Colonne con campi vuoti:\")\n",
    "print(empty_columns_cells)  # List of column names\n",
    "\n",
    "# Conto le celle vuote per ogni colonna\n",
    "for col in empty_columns_cells:\n",
    "    conteggio_campi_vuoti_club = dfclub[col].isnull().sum()\n",
    "    print(f\"Colonna '{col}' ha {conteggio_campi_vuoti_club} campi vuoti.\")"
   ],
   "id": "48ff95df82006c2e",
   "outputs": [
    {
     "name": "stdout",
     "output_type": "stream",
     "text": [
      "Colonne con campi vuoti:\n",
      "Index(['total_market_value', 'average_age', 'foreigners_percentage',\n",
      "       'coach_name'],\n",
      "      dtype='object')\n",
      "Colonna 'total_market_value' ha 426 campi vuoti.\n",
      "Colonna 'average_age' ha 38 campi vuoti.\n",
      "Colonna 'foreigners_percentage' ha 47 campi vuoti.\n",
      "Colonna 'coach_name' ha 426 campi vuoti.\n"
     ]
    }
   ],
   "execution_count": 116
  },
  {
   "metadata": {
    "ExecuteTime": {
     "end_time": "2024-06-24T13:40:18.313678Z",
     "start_time": "2024-06-24T13:40:18.297195Z"
    }
   },
   "cell_type": "code",
   "source": [
    "def save_cleaned_data(dataframes, output_folder=\"cleanDatasets\"):\n",
    "    \"\"\"\n",
    "    Saves cleaned DataFrames to separate CSV files in the specified output folder.\n",
    "\n",
    "    Args:\n",
    "        dataframes (dict): A dictionary mapping DataFrame names (keys) to DataFrames (values).\n",
    "        output_folder (str, optional): The path to the output folder. Defaults to \"cleanDatasets\".\n",
    "\n",
    "    Raises:\n",
    "        OSError: If there's an issue creating the output directory (if it doesn't exist).\n",
    "    \"\"\"\n",
    "\n",
    "    # Creo la directory di output se non esiste\n",
    "    output_dir = os.path.join(os.getcwd(), output_folder)\n",
    "    if not os.path.exists(output_dir):\n",
    "        try:\n",
    "            os.makedirs(output_dir)\n",
    "        except OSError:\n",
    "            raise OSError(f\"Could not create output directory: {output_dir}\")\n",
    "\n",
    "    # pulisco il dataframe\n",
    "    for name, dfclub in dataframes.items():\n",
    "        # Leggi l'originale ( assumendo che sia un file .csv\n",
    "        if name == \"clubs\":\n",
    "            dfclub = pd.read_csv('../DataAnalysis/Datasets/clubs.csv')\n",
    "\n",
    "            # Logica per la pulizia dei dataframes\n",
    "            #tramite il metodo fillna riempio i valori vuoti con valori generici, -1 in caso di valori numerici e \"Missing\" per valori testuali\n",
    "            dfclub.fillna({\"total_market_value\": -1}, inplace=True)\n",
    "            dfclub.fillna({\"average_age\": -1}, inplace=True)\n",
    "            dfclub.fillna({\"foreigners_percentage\": -1}, inplace=True)\n",
    "            dfclub.fillna({\"coach_name\": \"Missing\"}, inplace=True)\n",
    "\n",
    "        # Salvo il dataframe pulito\n",
    "        output_file = os.path.join(output_dir, f\"{name}.csv\")\n",
    "        dfclub.to_csv(output_file, index=False)  # Salva senza indice\n",
    "\n",
    "#definisco il dataframe clubs pulito\n",
    "dataframes = {\n",
    "    \"clubs\": dfclub\n",
    "\n",
    "}\n",
    "\n",
    "#salvo il dataframe clubs pulito\n",
    "save_cleaned_data(dataframes)"
   ],
   "id": "41d6b06baf970ef6",
   "outputs": [],
   "execution_count": 117
  },
  {
   "metadata": {},
   "cell_type": "markdown",
   "source": "##puliamo il dataset players_valuations",
   "id": "b7a405aa1aaeb95f"
  },
  {
   "metadata": {
    "ExecuteTime": {
     "end_time": "2024-06-24T13:40:18.371005Z",
     "start_time": "2024-06-24T13:40:18.314682Z"
    }
   },
   "cell_type": "code",
   "source": [
    "dfeval = pd.read_csv('../DataAnalysis/Datasets/player_valuations.csv')\n",
    "pd.options.display.max_rows = 400\n",
    "print(dfeval.info())"
   ],
   "id": "9a2c8e31d58bec4b",
   "outputs": [
    {
     "name": "stdout",
     "output_type": "stream",
     "text": [
      "<class 'pandas.core.frame.DataFrame'>\n",
      "RangeIndex: 32939 entries, 0 to 32938\n",
      "Data columns (total 9 columns):\n",
      " #   Column                               Non-Null Count  Dtype  \n",
      "---  ------                               --------------  -----  \n",
      " 0   player_id                            32939 non-null  int64  \n",
      " 1   last_season                          32939 non-null  int64  \n",
      " 2   datetime                             32938 non-null  object \n",
      " 3   date                                 32938 non-null  object \n",
      " 4   dateweek                             32938 non-null  object \n",
      " 5   market_value_in_eur                  32938 non-null  float64\n",
      " 6   n                                    32938 non-null  float64\n",
      " 7   current_club_id                      32938 non-null  float64\n",
      " 8   player_club_domestic_competition_id  32938 non-null  object \n",
      "dtypes: float64(3), int64(2), object(4)\n",
      "memory usage: 2.3+ MB\n",
      "None\n"
     ]
    }
   ],
   "execution_count": 118
  },
  {
   "metadata": {
    "ExecuteTime": {
     "end_time": "2024-06-24T13:40:18.391714Z",
     "start_time": "2024-06-24T13:40:18.372007Z"
    }
   },
   "cell_type": "code",
   "source": [
    "# Trovo le colonne con celle vuote\n",
    "empty_columns_cells = dfeval.columns[dfeval.isnull().any()]\n",
    "\n",
    "print(\"Colonne con campi vuoti:\")\n",
    "print(empty_columns_cells)  # List of column names\n",
    "\n",
    "# Conto le celle vuote per ogni colonna\n",
    "for col in empty_columns_cells:\n",
    "    conteggio_campi_vuoti_eval = dfeval[col].isnull().sum()\n",
    "    print(f\"Colonna '{col}' ha {conteggio_campi_vuoti_eval} campi vuoti.\")"
   ],
   "id": "2528cc8d08704c28",
   "outputs": [
    {
     "name": "stdout",
     "output_type": "stream",
     "text": [
      "Colonne con campi vuoti:\n",
      "Index(['datetime', 'date', 'dateweek', 'market_value_in_eur', 'n',\n",
      "       'current_club_id', 'player_club_domestic_competition_id'],\n",
      "      dtype='object')\n",
      "Colonna 'datetime' ha 1 campi vuoti.\n",
      "Colonna 'date' ha 1 campi vuoti.\n",
      "Colonna 'dateweek' ha 1 campi vuoti.\n",
      "Colonna 'market_value_in_eur' ha 1 campi vuoti.\n",
      "Colonna 'n' ha 1 campi vuoti.\n",
      "Colonna 'current_club_id' ha 1 campi vuoti.\n",
      "Colonna 'player_club_domestic_competition_id' ha 1 campi vuoti.\n"
     ]
    }
   ],
   "execution_count": 119
  },
  {
   "metadata": {
    "ExecuteTime": {
     "end_time": "2024-06-24T13:40:18.687741Z",
     "start_time": "2024-06-24T13:40:18.392718Z"
    }
   },
   "cell_type": "code",
   "source": [
    "def save_cleaned_data(dataframes, output_folder=\"cleanDatasets\"):\n",
    "    \"\"\"\n",
    "    Saves cleaned DataFrames to separate CSV files in the specified output folder.\n",
    "\n",
    "    Args:\n",
    "        dataframes (dict): A dictionary mapping DataFrame names (keys) to DataFrames (values).\n",
    "        output_folder (str, optional): The path to the output folder. Defaults to \"cleanDatasets\".\n",
    "\n",
    "    Raises:\n",
    "        OSError: If there's an issue creating the output directory (if it doesn't exist).\n",
    "    \"\"\"\n",
    "\n",
    "    # Creo la directory di output se non esiste\n",
    "    output_dir = os.path.join(os.getcwd(), output_folder)\n",
    "    if not os.path.exists(output_dir):\n",
    "        try:\n",
    "            os.makedirs(output_dir)\n",
    "        except OSError:\n",
    "            raise OSError(f\"Could not create output directory: {output_dir}\")\n",
    "\n",
    "    # pulisco il dataframe\n",
    "    for name, dfeval in dataframes.items():\n",
    "        # Leggi l'originale ( assumendo che sia un file .csv\n",
    "        if name == \"player_valuations\":\n",
    "            dfeval = pd.read_csv('../DataAnalysis/Datasets/player_valuations.csv')\n",
    "\n",
    "            # Logica per la pulizia dei dataframes\n",
    "            #tramite il metodo fillna riempio i valori vuoti con valori generici, -1 in caso di valori numerici e \"Missing\" per valori testuali\n",
    "            dfeval.fillna({\"n\": 0}, inplace=True)\n",
    "            dfeval.fillna({\"market_value_in_eur\": -1}, inplace=True)\n",
    "            dfeval.fillna({\"current_club_id\": \"Missing\"}, inplace=True)\n",
    "            dfeval.fillna({\"player_club_domestic_competition_id\": \"Missing\"}, inplace=True)\n",
    "            dfeval.fillna({\"date\": \"1900-01-01\"}, inplace=True)\n",
    "            dfeval[\"date\"] = pd.to_datetime(dfeval[\"date\"], format = 'mixed').dt.normalize()\n",
    "            dfeval.fillna({\"datetime\": \"1900-01-01 00:00:00\"}, inplace=True)\n",
    "            dfeval[\"datetime\"] = pd.to_datetime(dfeval[\"datetime\"], format = 'mixed').dt.normalize()\n",
    "            dfeval.fillna({\"dateweek\": \"1900-01-01\"}, inplace=True)\n",
    "            dfeval[\"dateweek\"] = pd.to_datetime(dfeval[\"dateweek\"], format = 'mixed').dt.normalize()\n",
    "\n",
    "        # Salvo il dataframe pulito\n",
    "        output_file = os.path.join(output_dir, f\"{name}.csv\")\n",
    "        dfeval.to_csv(output_file, index=False)  # Salva senza indice\n",
    "\n",
    "#definisco il dataframe player_valuations pulito\n",
    "dataframes = {\n",
    "    \"player_valuations\": dfeval\n",
    "\n",
    "}\n",
    "\n",
    "#salvo il dataframe player_valuations pulito\n",
    "save_cleaned_data(dataframes)"
   ],
   "id": "a357a2bdea679557",
   "outputs": [],
   "execution_count": 120
  },
  {
   "metadata": {},
   "cell_type": "markdown",
   "source": "#puliamo adesso i dataset presenti sul server con driver MongoDB, in ordine appearances, club_games, game_events, game_lineups e games",
   "id": "bb272850c0c372cd"
  },
  {
   "metadata": {
    "ExecuteTime": {
     "end_time": "2024-06-24T13:40:18.777911Z",
     "start_time": "2024-06-24T13:40:18.688987Z"
    }
   },
   "cell_type": "code",
   "source": [
    "dfapp = pd.read_csv('../DataAnalysis/Datasets/appearances.csv')\n",
    "pd.options.display.max_rows = 400\n",
    "print(dfapp.info())"
   ],
   "id": "2b9534e222da2646",
   "outputs": [
    {
     "name": "stdout",
     "output_type": "stream",
     "text": [
      "<class 'pandas.core.frame.DataFrame'>\n",
      "RangeIndex: 29974 entries, 0 to 29973\n",
      "Data columns (total 13 columns):\n",
      " #   Column                  Non-Null Count  Dtype  \n",
      "---  ------                  --------------  -----  \n",
      " 0   appearance_id           29974 non-null  object \n",
      " 1   game_id                 29974 non-null  int64  \n",
      " 2   player_id               29974 non-null  int64  \n",
      " 3   player_club_id          29974 non-null  int64  \n",
      " 4   player_current_club_id  29974 non-null  int64  \n",
      " 5   date                    29974 non-null  object \n",
      " 6   player_name             29974 non-null  object \n",
      " 7   competition_id          29974 non-null  object \n",
      " 8   yellow_cards            29974 non-null  int64  \n",
      " 9   red_cards               29974 non-null  int64  \n",
      " 10  goals                   29974 non-null  int64  \n",
      " 11  assists                 29974 non-null  int64  \n",
      " 12  minutes_played          29973 non-null  float64\n",
      "dtypes: float64(1), int64(8), object(4)\n",
      "memory usage: 3.0+ MB\n",
      "None\n"
     ]
    }
   ],
   "execution_count": 121
  },
  {
   "metadata": {
    "ExecuteTime": {
     "end_time": "2024-06-24T13:40:18.793581Z",
     "start_time": "2024-06-24T13:40:18.778920Z"
    }
   },
   "cell_type": "code",
   "source": [
    "# Trovo le colonne con celle vuote\n",
    "empty_columns_cells = dfapp.columns[dfapp.isnull().any()]\n",
    "\n",
    "print(\"Colonne con campi vuoti:\")\n",
    "print(empty_columns_cells)  # List of column names\n",
    "\n",
    "# Conto le celle vuote per ogni colonna\n",
    "for col in empty_columns_cells:\n",
    "    conteggio_campi_vuoti_app = dfapp[col].isnull().sum()\n",
    "    print(f\"Colonna '{col}' ha {conteggio_campi_vuoti_app} campi vuoti.\")"
   ],
   "id": "330d940ce34070ef",
   "outputs": [
    {
     "name": "stdout",
     "output_type": "stream",
     "text": [
      "Colonne con campi vuoti:\n",
      "Index(['minutes_played'], dtype='object')\n",
      "Colonna 'minutes_played' ha 1 campi vuoti.\n"
     ]
    }
   ],
   "execution_count": 122
  },
  {
   "metadata": {
    "ExecuteTime": {
     "end_time": "2024-06-24T13:40:18.997668Z",
     "start_time": "2024-06-24T13:40:18.795013Z"
    }
   },
   "cell_type": "code",
   "source": [
    "def save_cleaned_data(dataframes, output_folder=\"cleanDatasets\"):\n",
    "    \"\"\"\n",
    "    Saves cleaned DataFrames to separate CSV files in the specified output folder.\n",
    "\n",
    "    Args:\n",
    "        dataframes (dict): A dictionary mapping DataFrame names (keys) to DataFrames (values).\n",
    "        output_folder (str, optional): The path to the output folder. Defaults to \"cleanDatasets\".\n",
    "\n",
    "    Raises:\n",
    "        OSError: If there's an issue creating the output directory (if it doesn't exist).\n",
    "    \"\"\"\n",
    "\n",
    "    # Creo la directory di output se non esiste\n",
    "    output_dir = os.path.join(os.getcwd(), output_folder)\n",
    "    if not os.path.exists(output_dir):\n",
    "        try:\n",
    "            os.makedirs(output_dir)\n",
    "        except OSError:\n",
    "            raise OSError(f\"Could not create output directory: {output_dir}\")\n",
    "\n",
    "    # pulisco il dataframe\n",
    "    for name, dfapp in dataframes.items():\n",
    "        # Leggi l'originale ( assumendo che sia un file .csv\n",
    "        if name == \"appearances\":\n",
    "            dfapp = pd.read_csv('../DataAnalysis/Datasets/appearances.csv')\n",
    "\n",
    "            # Logica per la pulizia dei dataframes\n",
    "            dfapp.fillna({\"minutes_played\": \"Missing\"}, inplace=True)\n",
    "\n",
    "        # Salvo il dataframe pulito\n",
    "        output_file = os.path.join(output_dir, f\"{name}.csv\")\n",
    "        dfapp.to_csv(output_file, index=False)  # Salva senza indice\n",
    "\n",
    "#definisco il dataframe appearances pulito\n",
    "dataframes = {\n",
    "    \"appearances\": dfapp\n",
    "\n",
    "}\n",
    "\n",
    "#salvo il dataframe appearances pulito\n",
    "save_cleaned_data(dataframes)"
   ],
   "id": "eec99cd99e885a22",
   "outputs": [],
   "execution_count": 123
  },
  {
   "metadata": {},
   "cell_type": "markdown",
   "source": "##puliamo il dataset club_games",
   "id": "1199265ac86f2f41"
  },
  {
   "metadata": {
    "ExecuteTime": {
     "end_time": "2024-06-24T13:40:19.246969Z",
     "start_time": "2024-06-24T13:40:18.998825Z"
    }
   },
   "cell_type": "code",
   "source": [
    "dfcluga = pd.read_csv('../DataAnalysis/Datasets/club_games.csv')\n",
    "pd.options.display.max_rows = 400\n",
    "print(dfcluga.info())\n",
    "\n",
    "# Trovo le colonne con celle vuote\n",
    "empty_columns_cells = dfcluga.columns[dfcluga.isnull().any()]\n",
    "\n",
    "print(\"Colonne con campi vuoti:\")\n",
    "print(empty_columns_cells)  # List of column names\n",
    "\n",
    "# Conto le celle vuote per ogni colonna\n",
    "for col in empty_columns_cells:\n",
    "    conteggio_campi_vuoti_cluga = dfcluga[col].isnull().sum()\n",
    "    print(f\"Colonna '{col}' ha {conteggio_campi_vuoti_cluga} campi vuoti.\")"
   ],
   "id": "9eb28edf70f654a7",
   "outputs": [
    {
     "name": "stdout",
     "output_type": "stream",
     "text": [
      "<class 'pandas.core.frame.DataFrame'>\n",
      "RangeIndex: 130432 entries, 0 to 130431\n",
      "Data columns (total 11 columns):\n",
      " #   Column                 Non-Null Count   Dtype  \n",
      "---  ------                 --------------   -----  \n",
      " 0   game_id                130432 non-null  int64  \n",
      " 1   club_id                130432 non-null  int64  \n",
      " 2   own_goals              130432 non-null  int64  \n",
      " 3   own_position           91524 non-null   float64\n",
      " 4   own_manager_name       128948 non-null  object \n",
      " 5   opponent_id            130432 non-null  int64  \n",
      " 6   opponent_goals         130432 non-null  int64  \n",
      " 7   opponent_position      91524 non-null   float64\n",
      " 8   opponent_manager_name  128948 non-null  object \n",
      " 9   hosting                130432 non-null  object \n",
      " 10  is_win                 130432 non-null  int64  \n",
      "dtypes: float64(2), int64(6), object(3)\n",
      "memory usage: 10.9+ MB\n",
      "None\n",
      "Colonne con campi vuoti:\n",
      "Index(['own_position', 'own_manager_name', 'opponent_position',\n",
      "       'opponent_manager_name'],\n",
      "      dtype='object')\n",
      "Colonna 'own_position' ha 38908 campi vuoti.\n",
      "Colonna 'own_manager_name' ha 1484 campi vuoti.\n",
      "Colonna 'opponent_position' ha 38908 campi vuoti.\n",
      "Colonna 'opponent_manager_name' ha 1484 campi vuoti.\n"
     ]
    }
   ],
   "execution_count": 124
  },
  {
   "metadata": {
    "ExecuteTime": {
     "end_time": "2024-06-24T13:40:20.029040Z",
     "start_time": "2024-06-24T13:40:19.247972Z"
    }
   },
   "cell_type": "code",
   "source": [
    "def save_cleaned_data(dataframes, output_folder=\"cleanDatasets\"):\n",
    "    \"\"\"\n",
    "    Saves cleaned DataFrames to separate CSV files in the specified output folder.\n",
    "\n",
    "    Args:\n",
    "        dataframes (dict): A dictionary mapping DataFrame names (keys) to DataFrames (values).\n",
    "        output_folder (str, optional): The path to the output folder. Defaults to \"cleanDatasets\".\n",
    "\n",
    "    Raises:\n",
    "        OSError: If there's an issue creating the output directory (if it doesn't exist).\n",
    "    \"\"\"\n",
    "\n",
    "    # Creo la directory di output se non esiste\n",
    "    output_dir = os.path.join(os.getcwd(), output_folder)\n",
    "    if not os.path.exists(output_dir):\n",
    "        try:\n",
    "            os.makedirs(output_dir)\n",
    "        except OSError:\n",
    "            raise OSError(f\"Could not create output directory: {output_dir}\")\n",
    "\n",
    "    # pulisco il dataframe\n",
    "    for name, dfcluga in dataframes.items():\n",
    "        # Leggi l'originale ( assumendo che sia un file .csv\n",
    "        if name == \"club_games\":\n",
    "            dfcluga = pd.read_csv('../DataAnalysis/Datasets/club_games.csv')\n",
    "\n",
    "        # Logica per la pulizia dei dataframes\n",
    "            dfcluga.fillna({\"own_position\": \"Missing\"}, inplace=True)\n",
    "            dfcluga.fillna({\"own_manager_name\": \"Missing\"}, inplace=True)\n",
    "            dfcluga.fillna({\"opponent_position\": \"Missing\"}, inplace=True)\n",
    "            dfcluga.fillna({\"opponent_manager_name\": \"Missing\"}, inplace=True)\n",
    "\n",
    "        # Salvo il dataframe pulito\n",
    "        output_file = os.path.join(output_dir, f\"{name}.csv\")\n",
    "        dfcluga.to_csv(output_file, index=False)  # Salva senza indice\n",
    "\n",
    "#definisco il dataframe club_games pulito\n",
    "dataframes = {\n",
    "    \"club_games\": dfcluga\n",
    "\n",
    "}\n",
    "\n",
    "#salvo il dataframe club_games pulito\n",
    "save_cleaned_data(dataframes)"
   ],
   "id": "be04e62086abbbd3",
   "outputs": [],
   "execution_count": 125
  },
  {
   "metadata": {},
   "cell_type": "markdown",
   "source": "#puliamo il dataset game_events",
   "id": "e2ec35f09f7d8300"
  },
  {
   "metadata": {
    "ExecuteTime": {
     "end_time": "2024-06-24T13:40:20.094738Z",
     "start_time": "2024-06-24T13:40:20.030049Z"
    }
   },
   "cell_type": "code",
   "source": [
    "dfevents = pd.read_csv('../DataAnalysis/Datasets/game_events.csv')\n",
    "pd.options.display.max_rows = 400\n",
    "print(dfevents.info())\n",
    "\n",
    "# Trovo le colonne con celle vuote\n",
    "empty_columns_cells = dfevents.columns[dfevents.isnull().any()]\n",
    "\n",
    "print(\"Colonne con campi vuoti:\")\n",
    "print(empty_columns_cells)  # List of column names\n",
    "\n",
    "# Conto le celle vuote per ogni colonna\n",
    "for col in empty_columns_cells:\n",
    "    conteggio_campi_vuoti_events = dfevents[col].isnull().sum()\n",
    "    print(f\"Colonna '{col}' ha {conteggio_campi_vuoti_events} campi vuoti.\")"
   ],
   "id": "85b010b78e44354b",
   "outputs": [
    {
     "name": "stdout",
     "output_type": "stream",
     "text": [
      "<class 'pandas.core.frame.DataFrame'>\n",
      "RangeIndex: 21018 entries, 0 to 21017\n",
      "Data columns (total 10 columns):\n",
      " #   Column            Non-Null Count  Dtype  \n",
      "---  ------            --------------  -----  \n",
      " 0   game_event_id     21018 non-null  object \n",
      " 1   date              21018 non-null  object \n",
      " 2   game_id           21018 non-null  int64  \n",
      " 3   minute            21018 non-null  int64  \n",
      " 4   type              21018 non-null  object \n",
      " 5   club_id           21018 non-null  int64  \n",
      " 6   player_id         21017 non-null  float64\n",
      " 7   description       21017 non-null  object \n",
      " 8   player_in_id      9386 non-null   float64\n",
      " 9   player_assist_id  3980 non-null   float64\n",
      "dtypes: float64(3), int64(3), object(4)\n",
      "memory usage: 1.6+ MB\n",
      "None\n",
      "Colonne con campi vuoti:\n",
      "Index(['player_id', 'description', 'player_in_id', 'player_assist_id'], dtype='object')\n",
      "Colonna 'player_id' ha 1 campi vuoti.\n",
      "Colonna 'description' ha 1 campi vuoti.\n",
      "Colonna 'player_in_id' ha 11632 campi vuoti.\n",
      "Colonna 'player_assist_id' ha 17038 campi vuoti.\n"
     ]
    }
   ],
   "execution_count": 126
  },
  {
   "metadata": {
    "ExecuteTime": {
     "end_time": "2024-06-24T13:40:20.246209Z",
     "start_time": "2024-06-24T13:40:20.095825Z"
    }
   },
   "cell_type": "code",
   "source": [
    "def save_cleaned_data(dataframes, output_folder=\"cleanDatasets\"):\n",
    "    \"\"\"\n",
    "    Saves cleaned DataFrames to separate CSV files in the specified output folder.\n",
    "\n",
    "    Args:\n",
    "        dataframes (dict): A dictionary mapping DataFrame names (keys) to DataFrames (values).\n",
    "        output_folder (str, optional): The path to the output folder. Defaults to \"cleanDatasets\".\n",
    "\n",
    "    Raises:\n",
    "        OSError: If there's an issue creating the output directory (if it doesn't exist).\n",
    "    \"\"\"\n",
    "\n",
    "    # Creo la directory di output se non esiste\n",
    "    output_dir = os.path.join(os.getcwd(), output_folder)\n",
    "    if not os.path.exists(output_dir):\n",
    "        try:\n",
    "            os.makedirs(output_dir)\n",
    "        except OSError:\n",
    "            raise OSError(f\"Could not create output directory: {output_dir}\")\n",
    "\n",
    "    # pulisco il dataframe\n",
    "    for name, dfevents in dataframes.items():\n",
    "        # Leggi l'originale ( assumendo che sia un file .csv\n",
    "        if name == \"game_events\":\n",
    "            dfevents = pd.read_csv('../DataAnalysis/Datasets/game_events.csv')\n",
    "\n",
    "        # Logica per la pulizia dei dataframes\n",
    "        dfevents.fillna({\"player_id\": \"Missing\"}, inplace=True)\n",
    "        dfevents.fillna({\"description\": \"Missing\"}, inplace=True)\n",
    "        dfevents.fillna({\"player_in_id\": \"Missing\"}, inplace=True)\n",
    "        dfevents.fillna({\"player_assist_id\": \"Missing\"}, inplace=True)\n",
    "        \n",
    "        # Salvo il dataframe pulito\n",
    "        output_file = os.path.join(output_dir, f\"{name}.csv\")\n",
    "        dfevents.to_csv(output_file, index=False)  # Salva senza indice\n",
    "\n",
    "#definisco il dataframe game_events pulito\n",
    "dataframes = {\n",
    "    \"game_events\": dfevents\n",
    "\n",
    "}\n",
    "\n",
    "#salvo il dataframe game_events pulito\n",
    "save_cleaned_data(dataframes)"
   ],
   "id": "c1fc386ec35cdce2",
   "outputs": [],
   "execution_count": 127
  },
  {
   "metadata": {},
   "cell_type": "markdown",
   "source": "##puliamo il dataset game_lineups",
   "id": "6fa78dd13afd3a7c"
  },
  {
   "metadata": {
    "ExecuteTime": {
     "end_time": "2024-06-24T13:40:20.552448Z",
     "start_time": "2024-06-24T13:40:20.247590Z"
    }
   },
   "cell_type": "code",
   "source": [
    "dflineup = pd.read_csv('../DataAnalysis/Datasets/game_lineups.csv')\n",
    "pd.options.display.max_rows = 400\n",
    "print(dfcluga.info())\n",
    "\n",
    "# Trovo le colonne con celle vuote\n",
    "empty_columns_cells = dflineup.columns[dflineup.isnull().any()]\n",
    "\n",
    "print(\"Colonne con campi vuoti:\")\n",
    "print(empty_columns_cells)  # List of column names\n",
    "\n",
    "# Conto le celle vuote per ogni colonna\n",
    "for col in empty_columns_cells:\n",
    "    conteggio_campi_vuoti_lineup = dflineup[col].isnull().sum()\n",
    "    print(f\"Colonna '{col}' ha {conteggio_campi_vuoti_lineup} campi vuoti.\")"
   ],
   "id": "227f30e5924b9b3b",
   "outputs": [
    {
     "name": "stdout",
     "output_type": "stream",
     "text": [
      "<class 'pandas.core.frame.DataFrame'>\n",
      "RangeIndex: 130432 entries, 0 to 130431\n",
      "Data columns (total 11 columns):\n",
      " #   Column                 Non-Null Count   Dtype  \n",
      "---  ------                 --------------   -----  \n",
      " 0   game_id                130432 non-null  int64  \n",
      " 1   club_id                130432 non-null  int64  \n",
      " 2   own_goals              130432 non-null  int64  \n",
      " 3   own_position           91524 non-null   float64\n",
      " 4   own_manager_name       128948 non-null  object \n",
      " 5   opponent_id            130432 non-null  int64  \n",
      " 6   opponent_goals         130432 non-null  int64  \n",
      " 7   opponent_position      91524 non-null   float64\n",
      " 8   opponent_manager_name  128948 non-null  object \n",
      " 9   hosting                130432 non-null  object \n",
      " 10  is_win                 130432 non-null  int64  \n",
      "dtypes: float64(2), int64(6), object(3)\n",
      "memory usage: 10.9+ MB\n",
      "None\n",
      "Colonne con campi vuoti:\n",
      "Index([], dtype='object')\n"
     ]
    }
   ],
   "execution_count": 128
  },
  {
   "metadata": {},
   "cell_type": "markdown",
   "source": "##In questo singolare caso, il datset game_lineups non ha alcun campo vuoto. Possiamo procedere con la pulizia dell'ultimo dataset in esame, games",
   "id": "cb6e0b8a70b7a256"
  },
  {
   "metadata": {
    "ExecuteTime": {
     "end_time": "2024-06-24T13:40:20.987242Z",
     "start_time": "2024-06-24T13:40:20.553479Z"
    }
   },
   "cell_type": "code",
   "source": [
    "dfgames = pd.read_csv('../DataAnalysis/Datasets/games.csv')\n",
    "pd.options.display.max_rows = 400\n",
    "print(dfgames.info())\n",
    "\n",
    "# Trovo le colonne con celle vuote\n",
    "empty_columns_cells = dfgames.columns[dfgames.isnull().any()]\n",
    "\n",
    "print(\"Colonne con campi vuoti:\")\n",
    "print(empty_columns_cells)\n",
    "\n",
    "# Conto le celle vuote per ogni colonna\n",
    "for col in empty_columns_cells:\n",
    "    conteggio_campi_vuoti_games = dfgames[col].isnull().sum()\n",
    "    print(f\"Colonna '{col}' ha {conteggio_campi_vuoti_games} campi vuoti.\")"
   ],
   "id": "8a084412550d2490",
   "outputs": [
    {
     "name": "stdout",
     "output_type": "stream",
     "text": [
      "<class 'pandas.core.frame.DataFrame'>\n",
      "RangeIndex: 65216 entries, 0 to 65215\n",
      "Data columns (total 23 columns):\n",
      " #   Column                  Non-Null Count  Dtype  \n",
      "---  ------                  --------------  -----  \n",
      " 0   game_id                 65216 non-null  int64  \n",
      " 1   competition_id          65216 non-null  object \n",
      " 2   season                  65216 non-null  int64  \n",
      " 3   round                   65216 non-null  object \n",
      " 4   date                    65216 non-null  object \n",
      " 5   home_club_id            65216 non-null  int64  \n",
      " 6   away_club_id            65216 non-null  int64  \n",
      " 7   home_club_goals         65216 non-null  int64  \n",
      " 8   away_club_goals         65216 non-null  int64  \n",
      " 9   home_club_position      45762 non-null  float64\n",
      " 10  away_club_position      45762 non-null  float64\n",
      " 11  home_club_manager_name  64474 non-null  object \n",
      " 12  away_club_manager_name  64474 non-null  object \n",
      " 13  stadium                 65005 non-null  object \n",
      " 14  attendance              55704 non-null  float64\n",
      " 15  referee                 64622 non-null  object \n",
      " 16  url                     65216 non-null  object \n",
      " 17  home_club_formation     2869 non-null   object \n",
      " 18  away_club_formation     2888 non-null   object \n",
      " 19  home_club_name          53964 non-null  object \n",
      " 20  away_club_name          55167 non-null  object \n",
      " 21  aggregate               65216 non-null  object \n",
      " 22  competition_type        65216 non-null  object \n",
      "dtypes: float64(3), int64(6), object(14)\n",
      "memory usage: 11.4+ MB\n",
      "None\n",
      "Colonne con campi vuoti:\n",
      "Index(['home_club_position', 'away_club_position', 'home_club_manager_name',\n",
      "       'away_club_manager_name', 'stadium', 'attendance', 'referee',\n",
      "       'home_club_formation', 'away_club_formation', 'home_club_name',\n",
      "       'away_club_name'],\n",
      "      dtype='object')\n",
      "Colonna 'home_club_position' ha 19454 campi vuoti.\n",
      "Colonna 'away_club_position' ha 19454 campi vuoti.\n",
      "Colonna 'home_club_manager_name' ha 742 campi vuoti.\n",
      "Colonna 'away_club_manager_name' ha 742 campi vuoti.\n",
      "Colonna 'stadium' ha 211 campi vuoti.\n",
      "Colonna 'attendance' ha 9512 campi vuoti.\n",
      "Colonna 'referee' ha 594 campi vuoti.\n",
      "Colonna 'home_club_formation' ha 62347 campi vuoti.\n",
      "Colonna 'away_club_formation' ha 62328 campi vuoti.\n",
      "Colonna 'home_club_name' ha 11252 campi vuoti.\n",
      "Colonna 'away_club_name' ha 10049 campi vuoti.\n"
     ]
    }
   ],
   "execution_count": 129
  },
  {
   "metadata": {},
   "cell_type": "markdown",
   "source": "##Andiamo quindi a pulire il dataset e a salvarlo nella cartella cleanDatasets",
   "id": "9c1396a256a3f166"
  },
  {
   "metadata": {
    "ExecuteTime": {
     "end_time": "2024-06-24T13:40:22.045969Z",
     "start_time": "2024-06-24T13:40:20.988249Z"
    }
   },
   "cell_type": "code",
   "source": [
    "def save_cleaned_data(dataframes, output_folder=\"cleanDatasets\"):\n",
    "    \"\"\"\n",
    "    Saves cleaned DataFrames to separate CSV files in the specified output folder.\n",
    "\n",
    "    Args:\n",
    "        dataframes (dict): A dictionary mapping DataFrame names (keys) to DataFrames (values).\n",
    "        output_folder (str, optional): The path to the output folder. Defaults to \"cleanDatasets\".\n",
    "\n",
    "    Raises:\n",
    "        OSError: If there's an issue creating the output directory (if it doesn't exist).\n",
    "    \"\"\"\n",
    "\n",
    "    # Creo la directory di output se non esiste\n",
    "    output_dir = os.path.join(os.getcwd(), output_folder)\n",
    "    if not os.path.exists(output_dir):\n",
    "        try:\n",
    "            os.makedirs(output_dir)\n",
    "        except OSError:\n",
    "            raise OSError(f\"Could not create output directory: {output_dir}\")\n",
    "\n",
    "    # pulisco il dataframe\n",
    "    for name, dfgames in dataframes.items():\n",
    "        # Leggi l'originale ( assumendo che sia un file .csv\n",
    "        if name == \"games\":\n",
    "            dfgames = pd.read_csv('../DataAnalysis/Datasets/games.csv')\n",
    "\n",
    "        # Logica per pulire il dataframe \"games\"\n",
    "        dfgames.fillna({\"home_club_position\": \"Missing\"}, inplace=True)\n",
    "        dfgames.fillna({\"away_club_position\": \"Missing\"}, inplace=True)\n",
    "        dfgames.fillna({\"home_club_manager_name\": \"Missing\"}, inplace=True)\n",
    "        dfgames.fillna({\"away_club_manager_name\": \"Missing\"}, inplace=True)\n",
    "        dfgames.fillna({\"stadium\": \"Missing\"}, inplace=True)\n",
    "        dfgames.fillna({\"attendance\": -1}, inplace=True)\n",
    "        dfgames.fillna({\"referee\": \"Missing\"}, inplace=True)\n",
    "        dfgames.fillna({\"home_club_formation\": \"Missing\"}, inplace=True)\n",
    "        dfgames.fillna({\"away_club_formation\": \"Missing\"}, inplace=True)\n",
    "        dfgames.fillna({\"home_club_name\": \"Missing\"}, inplace=True)\n",
    "        dfgames.fillna({\"away_club_name\": \"Missing\"}, inplace=True)\n",
    "\n",
    "\n",
    "        # Salvo il dataframe pulito\n",
    "        output_file = os.path.join(output_dir, f\"{name}.csv\")\n",
    "        dfgames.to_csv(output_file, index=False)  # Salva senza indice\n",
    "\n",
    "#definisco il dataframe games pulito\n",
    "dataframes = {\n",
    "    \"games\": dfgames\n",
    "\n",
    "}\n",
    "\n",
    "#definisco il dataframe games pulito\n",
    "save_cleaned_data(dataframes)"
   ],
   "id": "cef2924aab4d5099",
   "outputs": [],
   "execution_count": 130
  },
  {
   "metadata": {},
   "cell_type": "markdown",
   "source": "Adesso possiamo fare l'analisi dei dati, precedentemente fatta utilizzando dataset con celle mancanti andando a sopperire a tali mancanze usando direttamente i metodi di fillna e dropna nella stessa, con i dataset puliti. ",
   "id": "4d21355cddf077b4"
  }
 ],
 "metadata": {
  "kernelspec": {
   "display_name": "Python 3",
   "language": "python",
   "name": "python3"
  },
  "language_info": {
   "codemirror_mode": {
    "name": "ipython",
    "version": 2
   },
   "file_extension": ".py",
   "mimetype": "text/x-python",
   "name": "python",
   "nbconvert_exporter": "python",
   "pygments_lexer": "ipython2",
   "version": "2.7.6"
  }
 },
 "nbformat": 4,
 "nbformat_minor": 5
}
