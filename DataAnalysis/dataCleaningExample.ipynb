{
 "cells": [
  {
   "metadata": {},
   "cell_type": "markdown",
   "source": [
    "#Esempio di cleaning dei dati dentro a un dataset tramite jupyter notebook\n",
    "##Librerie utilizzate"
   ],
   "id": "77b5b25df889690b"
  },
  {
   "metadata": {
    "ExecuteTime": {
     "end_time": "2024-06-24T11:58:45.593366Z",
     "start_time": "2024-06-24T11:58:45.589876Z"
    }
   },
   "cell_type": "code",
   "source": [
    "import os\n",
    "import pandas as pd\n",
    "import numpy as np\n",
    "from dateutil.parser import parse, ParserError"
   ],
   "id": "1d249ecba62eed2d",
   "outputs": [],
   "execution_count": 36
  },
  {
   "metadata": {},
   "cell_type": "markdown",
   "source": "##Importiamo, per esempio, il dataset players.csv",
   "id": "1aa4f7de055b3d93"
  },
  {
   "metadata": {
    "ExecuteTime": {
     "end_time": "2024-06-24T11:58:45.920170Z",
     "start_time": "2024-06-24T11:58:45.647885Z"
    }
   },
   "cell_type": "code",
   "source": [
    "df = pd.read_csv('../DataAnalysis/Datasets/players.csv')\n",
    "pd.options.display.max_rows = 400\n",
    "print(df.info())"
   ],
   "id": "92aa0736882f9458",
   "outputs": [
    {
     "name": "stdout",
     "output_type": "stream",
     "text": [
      "<class 'pandas.core.frame.DataFrame'>\n",
      "RangeIndex: 30302 entries, 0 to 30301\n",
      "Data columns (total 23 columns):\n",
      " #   Column                                Non-Null Count  Dtype  \n",
      "---  ------                                --------------  -----  \n",
      " 0   player_id                             30302 non-null  int64  \n",
      " 1   first_name                            28337 non-null  object \n",
      " 2   last_name                             30302 non-null  object \n",
      " 3   name                                  30302 non-null  object \n",
      " 4   last_season                           30302 non-null  int64  \n",
      " 5   current_club_id                       30302 non-null  int64  \n",
      " 6   player_code                           30302 non-null  object \n",
      " 7   country_of_birth                      27613 non-null  object \n",
      " 8   city_of_birth                         28099 non-null  object \n",
      " 9   country_of_citizenship                29759 non-null  object \n",
      " 10  date_of_birth                         30255 non-null  object \n",
      " 11  sub_position                          30130 non-null  object \n",
      " 12  position                              30302 non-null  object \n",
      " 13  foot                                  27913 non-null  object \n",
      " 14  height_in_cm                          28204 non-null  float64\n",
      " 15  market_value_in_eur                   19383 non-null  float64\n",
      " 16  highest_market_value_in_eur           28981 non-null  float64\n",
      " 17  contract_expiration_date              18835 non-null  object \n",
      " 18  agent_name                            14941 non-null  object \n",
      " 19  image_url                             30302 non-null  object \n",
      " 20  url                                   30302 non-null  object \n",
      " 21  current_club_domestic_competition_id  30302 non-null  object \n",
      " 22  current_club_name                     30302 non-null  object \n",
      "dtypes: float64(3), int64(3), object(17)\n",
      "memory usage: 5.3+ MB\n",
      "None\n"
     ]
    }
   ],
   "execution_count": 37
  },
  {
   "metadata": {},
   "cell_type": "markdown",
   "source": "##Osserviamo adesso quali colonne contengono campi vuoti al loro interno e la quantità di tali campi",
   "id": "50feedb1a6220684"
  },
  {
   "metadata": {
    "ExecuteTime": {
     "end_time": "2024-06-24T11:58:45.951132Z",
     "start_time": "2024-06-24T11:58:45.921182Z"
    }
   },
   "cell_type": "code",
   "source": [
    "colonne_con_campi_vuoti = df.columns[df.isnull().any()]\n",
    "print(\"Colonne con campi vuoti:\")\n",
    "print(colonne_con_campi_vuoti)"
   ],
   "id": "bb7c9083cf81f7e1",
   "outputs": [
    {
     "name": "stdout",
     "output_type": "stream",
     "text": [
      "Colonne con campi vuoti:\n",
      "Index(['first_name', 'country_of_birth', 'city_of_birth',\n",
      "       'country_of_citizenship', 'date_of_birth', 'sub_position', 'foot',\n",
      "       'height_in_cm', 'market_value_in_eur', 'highest_market_value_in_eur',\n",
      "       'contract_expiration_date', 'agent_name'],\n",
      "      dtype='object')\n"
     ]
    }
   ],
   "execution_count": 38
  },
  {
   "metadata": {
    "ExecuteTime": {
     "end_time": "2024-06-24T11:58:45.970118Z",
     "start_time": "2024-06-24T11:58:45.952144Z"
    }
   },
   "cell_type": "code",
   "source": [
    "for colonna in colonne_con_campi_vuoti:\n",
    "    conteggio_campi_vuoti = df[colonna].isnull().sum()\n",
    "    print(f\"Colonna '{colonna}' ha {conteggio_campi_vuoti} campi vuoti.\")"
   ],
   "id": "68fc3a70181acc08",
   "outputs": [
    {
     "name": "stdout",
     "output_type": "stream",
     "text": [
      "Colonna 'first_name' ha 1965 campi vuoti.\n",
      "Colonna 'country_of_birth' ha 2689 campi vuoti.\n",
      "Colonna 'city_of_birth' ha 2203 campi vuoti.\n",
      "Colonna 'country_of_citizenship' ha 543 campi vuoti.\n",
      "Colonna 'date_of_birth' ha 47 campi vuoti.\n",
      "Colonna 'sub_position' ha 172 campi vuoti.\n",
      "Colonna 'foot' ha 2389 campi vuoti.\n",
      "Colonna 'height_in_cm' ha 2098 campi vuoti.\n",
      "Colonna 'market_value_in_eur' ha 10919 campi vuoti.\n",
      "Colonna 'highest_market_value_in_eur' ha 1321 campi vuoti.\n",
      "Colonna 'contract_expiration_date' ha 11467 campi vuoti.\n",
      "Colonna 'agent_name' ha 15361 campi vuoti.\n"
     ]
    }
   ],
   "execution_count": 39
  },
  {
   "metadata": {},
   "cell_type": "markdown",
   "source": "##Cambiamo adesso i valori nulli con i corretti valori di default",
   "id": "286b31f184e84f57"
  },
  {
   "metadata": {
    "ExecuteTime": {
     "end_time": "2024-06-24T11:58:46.012715Z",
     "start_time": "2024-06-24T11:58:45.972142Z"
    }
   },
   "cell_type": "code",
   "source": [
    "df.fillna({\"foot\": \"null\"}, inplace=True)\n",
    "df.fillna({\"market_value_in_eur\": -1}, inplace=True)\n",
    "df.fillna({\"sub_position\": \"Missing\"}, inplace=True)\n",
    "df.fillna({\"first_name\": \"Missing\"}, inplace=True)\n",
    "df.fillna({\"country_of_birth\": \"Missing\"}, inplace=True)\n",
    "df.fillna({\"city_of_birth\": \"Missing\"}, inplace=True)\n",
    "df.fillna({\"country_of_citizenship\": \"Missing\"}, inplace=True)\n",
    "df.fillna({\"height_in_cm\": -1}, inplace=True)\n",
    "df.fillna({\"market_value_in_eur\": -1}, inplace=True)\n",
    "df.fillna({\"highest_market_value_in_eur\": -1}, inplace=True)\n",
    "df.fillna({\"agent_name\": \"Missing\"}, inplace=True)\n",
    "print(df)"
   ],
   "id": "fe55812e847f9b82",
   "outputs": [
    {
     "name": "stdout",
     "output_type": "stream",
     "text": [
      "       player_id first_name    last_name                name  last_season  \\\n",
      "0            598       Timo   Hildebrand     Timo Hildebrand         2014   \n",
      "1            670     Martin       Petrov       Martin Petrov         2012   \n",
      "2           1323     Martin      Amedick      Martin Amedick         2012   \n",
      "3           3195   Jermaine      Pennant    Jermaine Pennant         2013   \n",
      "4           3259     Damien         Duff         Damien Duff         2013   \n",
      "...          ...        ...          ...                 ...          ...   \n",
      "30297     371851       Jaka        Bijol          Jaka Bijol         2023   \n",
      "30298     537171     Semuel  Pizzignacco  Semuel Pizzignacco         2018   \n",
      "30299     586756      Festy      Ebosele       Festy Ebosele         2023   \n",
      "30300     704692     Nicolò      Cocetta      Nicolò Cocetta         2022   \n",
      "30301     925584       Axel     Guessand       Axel Guessand         2023   \n",
      "\n",
      "       current_club_id         player_code country_of_birth  \\\n",
      "0                   24     timo-hildebrand          Germany   \n",
      "1                  714       martin-petrov         Bulgaria   \n",
      "2                   24      martin-amedick          Germany   \n",
      "3                  512    jermaine-pennant          England   \n",
      "4                  931         damien-duff          Ireland   \n",
      "...                ...                 ...              ...   \n",
      "30297              410          jaka-bijol         Slovenia   \n",
      "30298              410  semuel-pizzignacco            Italy   \n",
      "30299              410       festy-ebosele          Ireland   \n",
      "30300              410      nicolo-cocetta            Italy   \n",
      "30301              410       axel-guessand           France   \n",
      "\n",
      "                city_of_birth country_of_citizenship  ...   foot height_in_cm  \\\n",
      "0                       Worms                Germany  ...   null         -1.0   \n",
      "1                      Vratsa               Bulgaria  ...   null         -1.0   \n",
      "2                   Paderborn                Germany  ...   null         -1.0   \n",
      "3                  Nottingham                England  ...  right        173.0   \n",
      "4                  Ballyboden                Ireland  ...   left        177.0   \n",
      "...                       ...                    ...  ...    ...          ...   \n",
      "30297                Vuzenica               Slovenia  ...  right        190.0   \n",
      "30298              Monfalcone                  Italy  ...  right        188.0   \n",
      "30299    Enniscorthy, Wexford                Ireland  ...  right        180.0   \n",
      "30300  San Daniele del Friuli                  Italy  ...   null         -1.0   \n",
      "30301            Schiltigheim                 France  ...   left        184.0   \n",
      "\n",
      "      market_value_in_eur highest_market_value_in_eur  \\\n",
      "0                    -1.0                  10000000.0   \n",
      "1                    -1.0                  12000000.0   \n",
      "2                    -1.0                   2750000.0   \n",
      "3                    -1.0                  10500000.0   \n",
      "4                    -1.0                  17000000.0   \n",
      "...                   ...                         ...   \n",
      "30297          10000000.0                  10000000.0   \n",
      "30298            325000.0                    350000.0   \n",
      "30299           4500000.0                   4500000.0   \n",
      "30300             75000.0                     75000.0   \n",
      "30301            250000.0                    300000.0   \n",
      "\n",
      "       contract_expiration_date         agent_name  \\\n",
      "0                           NaN            Missing   \n",
      "1                           NaN                IFM   \n",
      "2                           NaN            Missing   \n",
      "3                           NaN         Andrew Sky   \n",
      "4                           NaN            Missing   \n",
      "...                         ...                ...   \n",
      "30297       2027-06-30 00:00:00          MSC GROUP   \n",
      "30298       2025-06-30 00:00:00            Missing   \n",
      "30299       2027-06-30 00:00:00  The Kulture Group   \n",
      "30300       2023-06-30 00:00:00            Missing   \n",
      "30301       2027-06-30 00:00:00        CAA Stellar   \n",
      "\n",
      "                                               image_url  \\\n",
      "0      https://img.a.transfermarkt.technology/portrai...   \n",
      "1      https://img.a.transfermarkt.technology/portrai...   \n",
      "2      https://img.a.transfermarkt.technology/portrai...   \n",
      "3      https://img.a.transfermarkt.technology/portrai...   \n",
      "4      https://img.a.transfermarkt.technology/portrai...   \n",
      "...                                                  ...   \n",
      "30297  https://img.a.transfermarkt.technology/portrai...   \n",
      "30298  https://img.a.transfermarkt.technology/portrai...   \n",
      "30299  https://img.a.transfermarkt.technology/portrai...   \n",
      "30300  https://img.a.transfermarkt.technology/portrai...   \n",
      "30301  https://img.a.transfermarkt.technology/portrai...   \n",
      "\n",
      "                                                     url  \\\n",
      "0      https://www.transfermarkt.co.uk/timo-hildebran...   \n",
      "1      https://www.transfermarkt.co.uk/martin-petrov/...   \n",
      "2      https://www.transfermarkt.co.uk/martin-amedick...   \n",
      "3      https://www.transfermarkt.co.uk/jermaine-penna...   \n",
      "4      https://www.transfermarkt.co.uk/damien-duff/pr...   \n",
      "...                                                  ...   \n",
      "30297  https://www.transfermarkt.co.uk/jaka-bijol/pro...   \n",
      "30298  https://www.transfermarkt.co.uk/semuel-pizzign...   \n",
      "30299  https://www.transfermarkt.co.uk/festy-ebosele/...   \n",
      "30300  https://www.transfermarkt.co.uk/nicolo-cocetta...   \n",
      "30301  https://www.transfermarkt.co.uk/axel-guessand/...   \n",
      "\n",
      "      current_club_domestic_competition_id       current_club_name  \n",
      "0                                       L1     Eintracht Frankfurt  \n",
      "1                                      ES1  RCD Espanyol Barcelona  \n",
      "2                                       L1     Eintracht Frankfurt  \n",
      "3                                      GB1              Stoke City  \n",
      "4                                      GB1               Fulham FC  \n",
      "...                                    ...                     ...  \n",
      "30297                                  IT1          Udinese Calcio  \n",
      "30298                                  IT1          Udinese Calcio  \n",
      "30299                                  IT1          Udinese Calcio  \n",
      "30300                                  IT1          Udinese Calcio  \n",
      "30301                                  IT1          Udinese Calcio  \n",
      "\n",
      "[30302 rows x 23 columns]\n"
     ]
    }
   ],
   "execution_count": 40
  },
  {
   "metadata": {},
   "cell_type": "markdown",
   "source": "##Cambiamo il formato della data di \"contract_expiration_date\" e \"date_of_birth\" rimpiazzando i valori \"null\" con la data di default \"1900-01-01\"",
   "id": "84b42c2e0192c9e3"
  },
  {
   "metadata": {
    "ExecuteTime": {
     "end_time": "2024-06-24T11:58:46.084228Z",
     "start_time": "2024-06-24T11:58:46.013721Z"
    }
   },
   "cell_type": "code",
   "source": [
    "df.fillna({\"contract_expiration_date\": \"1900-01-01 00:00:00\"}, inplace=True)\n",
    "df[\"contract_expiration_date\"] = pd.to_datetime(df[\"contract_expiration_date\"]).dt.normalize()\n",
    "#utilizzo il formato mixed poichè date of birth presenta valori letterali nel dataset, che impedirebbero la pulitura senza tale specifica dato che sto inserendo solo caratteri numerici\n",
    "df.fillna({\"date_of_birth\": \"1900-01-01 00:00:00\"}, inplace=True)\n",
    "df[\"date_of_birth\"] = pd.to_datetime(df[\"date_of_birth\"], format = 'mixed').dt.normalize()\n",
    "\n",
    "print(df.info())"
   ],
   "id": "ccbc7ec847c92719",
   "outputs": [
    {
     "name": "stdout",
     "output_type": "stream",
     "text": [
      "<class 'pandas.core.frame.DataFrame'>\n",
      "RangeIndex: 30302 entries, 0 to 30301\n",
      "Data columns (total 23 columns):\n",
      " #   Column                                Non-Null Count  Dtype         \n",
      "---  ------                                --------------  -----         \n",
      " 0   player_id                             30302 non-null  int64         \n",
      " 1   first_name                            30302 non-null  object        \n",
      " 2   last_name                             30302 non-null  object        \n",
      " 3   name                                  30302 non-null  object        \n",
      " 4   last_season                           30302 non-null  int64         \n",
      " 5   current_club_id                       30302 non-null  int64         \n",
      " 6   player_code                           30302 non-null  object        \n",
      " 7   country_of_birth                      30302 non-null  object        \n",
      " 8   city_of_birth                         30302 non-null  object        \n",
      " 9   country_of_citizenship                30302 non-null  object        \n",
      " 10  date_of_birth                         30302 non-null  datetime64[ns]\n",
      " 11  sub_position                          30302 non-null  object        \n",
      " 12  position                              30302 non-null  object        \n",
      " 13  foot                                  30302 non-null  object        \n",
      " 14  height_in_cm                          30302 non-null  float64       \n",
      " 15  market_value_in_eur                   30302 non-null  float64       \n",
      " 16  highest_market_value_in_eur           30302 non-null  float64       \n",
      " 17  contract_expiration_date              30302 non-null  datetime64[ns]\n",
      " 18  agent_name                            30302 non-null  object        \n",
      " 19  image_url                             30302 non-null  object        \n",
      " 20  url                                   30302 non-null  object        \n",
      " 21  current_club_domestic_competition_id  30302 non-null  object        \n",
      " 22  current_club_name                     30302 non-null  object        \n",
      "dtypes: datetime64[ns](2), float64(3), int64(3), object(15)\n",
      "memory usage: 5.3+ MB\n",
      "None\n"
     ]
    }
   ],
   "execution_count": 41
  },
  {
   "metadata": {},
   "cell_type": "markdown",
   "source": "##Convertiamo tipi di oggetti nei relativi tipi corretti",
   "id": "37c5f5f5e9027813"
  },
  {
   "metadata": {
    "ExecuteTime": {
     "end_time": "2024-06-24T11:58:46.119687Z",
     "start_time": "2024-06-24T11:58:46.087233Z"
    }
   },
   "cell_type": "code",
   "source": [
    "df[\"market_value_in_eur\"] = df[\"market_value_in_eur\"].astype(float)\n",
    "df[\"first_name\"] = df[\"first_name\"].astype(str)\n",
    "print(df.info())"
   ],
   "id": "953a50e293f396a8",
   "outputs": [
    {
     "name": "stdout",
     "output_type": "stream",
     "text": [
      "<class 'pandas.core.frame.DataFrame'>\n",
      "RangeIndex: 30302 entries, 0 to 30301\n",
      "Data columns (total 23 columns):\n",
      " #   Column                                Non-Null Count  Dtype         \n",
      "---  ------                                --------------  -----         \n",
      " 0   player_id                             30302 non-null  int64         \n",
      " 1   first_name                            30302 non-null  object        \n",
      " 2   last_name                             30302 non-null  object        \n",
      " 3   name                                  30302 non-null  object        \n",
      " 4   last_season                           30302 non-null  int64         \n",
      " 5   current_club_id                       30302 non-null  int64         \n",
      " 6   player_code                           30302 non-null  object        \n",
      " 7   country_of_birth                      30302 non-null  object        \n",
      " 8   city_of_birth                         30302 non-null  object        \n",
      " 9   country_of_citizenship                30302 non-null  object        \n",
      " 10  date_of_birth                         30302 non-null  datetime64[ns]\n",
      " 11  sub_position                          30302 non-null  object        \n",
      " 12  position                              30302 non-null  object        \n",
      " 13  foot                                  30302 non-null  object        \n",
      " 14  height_in_cm                          30302 non-null  float64       \n",
      " 15  market_value_in_eur                   30302 non-null  float64       \n",
      " 16  highest_market_value_in_eur           30302 non-null  float64       \n",
      " 17  contract_expiration_date              30302 non-null  datetime64[ns]\n",
      " 18  agent_name                            30302 non-null  object        \n",
      " 19  image_url                             30302 non-null  object        \n",
      " 20  url                                   30302 non-null  object        \n",
      " 21  current_club_domestic_competition_id  30302 non-null  object        \n",
      " 22  current_club_name                     30302 non-null  object        \n",
      "dtypes: datetime64[ns](2), float64(3), int64(3), object(15)\n",
      "memory usage: 5.3+ MB\n",
      "None\n"
     ]
    }
   ],
   "execution_count": 42
  },
  {
   "metadata": {},
   "cell_type": "markdown",
   "source": "##Puliamo adesso il dataset \"Competitions\"",
   "id": "da215e4eb8968029"
  },
  {
   "metadata": {
    "ExecuteTime": {
     "end_time": "2024-06-24T11:58:46.129883Z",
     "start_time": "2024-06-24T11:58:46.120700Z"
    }
   },
   "cell_type": "code",
   "source": [
    "dfcompetitions = pd.read_csv('../DataAnalysis/Datasets/competitions.csv')\n",
    "pd.options.display.max_rows = 400\n",
    "print(dfcompetitions.info())"
   ],
   "id": "4ad8521db1a15c42",
   "outputs": [
    {
     "name": "stdout",
     "output_type": "stream",
     "text": [
      "<class 'pandas.core.frame.DataFrame'>\n",
      "RangeIndex: 43 entries, 0 to 42\n",
      "Data columns (total 10 columns):\n",
      " #   Column                Non-Null Count  Dtype \n",
      "---  ------                --------------  ----- \n",
      " 0   competition_id        43 non-null     object\n",
      " 1   competition_code      43 non-null     object\n",
      " 2   name                  43 non-null     object\n",
      " 3   sub_type              43 non-null     object\n",
      " 4   type                  43 non-null     object\n",
      " 5   country_id            43 non-null     int64 \n",
      " 6   country_name          36 non-null     object\n",
      " 7   domestic_league_code  36 non-null     object\n",
      " 8   confederation         43 non-null     object\n",
      " 9   url                   43 non-null     object\n",
      "dtypes: int64(1), object(9)\n",
      "memory usage: 3.5+ KB\n",
      "None\n"
     ]
    }
   ],
   "execution_count": 43
  },
  {
   "metadata": {},
   "cell_type": "markdown",
   "source": "###Anche qui osserviamo quali colonne contengono valori nulli",
   "id": "5acd02d648476702"
  },
  {
   "metadata": {
    "ExecuteTime": {
     "end_time": "2024-06-24T11:58:46.135896Z",
     "start_time": "2024-06-24T11:58:46.130891Z"
    }
   },
   "cell_type": "code",
   "source": [
    "# Trovo le colonne con celle vuote\n",
    "empty_columns_cells = dfcompetitions.columns[dfcompetitions.isnull().any()]\n",
    "print(\"Colonne con campi vuoti:\")\n",
    "print(empty_columns_cells)\n",
    "# Conto le celle vuote per ogni colonna\n",
    "for col in empty_columns_cells:\n",
    "    conteggio_campi_vuoti = dfcompetitions[col].isnull().sum()\n",
    "    print(f\"Colonna '{col}' ha {conteggio_campi_vuoti} campi vuoti.\")"
   ],
   "id": "1fca97bd5072a4a1",
   "outputs": [
    {
     "name": "stdout",
     "output_type": "stream",
     "text": [
      "Colonne con campi vuoti:\n",
      "Index(['country_name', 'domestic_league_code'], dtype='object')\n",
      "Colonna 'country_name' ha 7 campi vuoti.\n",
      "Colonna 'domestic_league_code' ha 7 campi vuoti.\n"
     ]
    }
   ],
   "execution_count": 44
  },
  {
   "metadata": {
    "ExecuteTime": {
     "end_time": "2024-06-24T11:58:46.151502Z",
     "start_time": "2024-06-24T11:58:46.136910Z"
    }
   },
   "cell_type": "code",
   "source": [
    "dfcompetitions.fillna({\"country_name\": \"Missing\"}, inplace=True)\n",
    "dfcompetitions.fillna({\"domestic_league_code\": \"Missing\"}, inplace=True)\n",
    "print(dfcompetitions.info())\n",
    "print(dfcompetitions)"
   ],
   "id": "50ffd189fd89ec8b",
   "outputs": [
    {
     "name": "stdout",
     "output_type": "stream",
     "text": [
      "<class 'pandas.core.frame.DataFrame'>\n",
      "RangeIndex: 43 entries, 0 to 42\n",
      "Data columns (total 10 columns):\n",
      " #   Column                Non-Null Count  Dtype \n",
      "---  ------                --------------  ----- \n",
      " 0   competition_id        43 non-null     object\n",
      " 1   competition_code      43 non-null     object\n",
      " 2   name                  43 non-null     object\n",
      " 3   sub_type              43 non-null     object\n",
      " 4   type                  43 non-null     object\n",
      " 5   country_id            43 non-null     int64 \n",
      " 6   country_name          43 non-null     object\n",
      " 7   domestic_league_code  43 non-null     object\n",
      " 8   confederation         43 non-null     object\n",
      " 9   url                   43 non-null     object\n",
      "dtypes: int64(1), object(9)\n",
      "memory usage: 3.5+ KB\n",
      "None\n",
      "   competition_id                             competition_code  \\\n",
      "0             CIT                                    italy-cup   \n",
      "1            NLSC                         johan-cruijff-schaal   \n",
      "2             GRP                              kypello-elladas   \n",
      "3            POSU                supertaca-candido-de-oliveira   \n",
      "4            RUSS                            russian-super-cup   \n",
      "5             SUC                                    supercopa   \n",
      "6             USC                               uefa-super-cup   \n",
      "7             DK1                                  superligaen   \n",
      "8              EL                                europa-league   \n",
      "9             ES1                                       laliga   \n",
      "10            FR1                                      ligue-1   \n",
      "11            IT1                                      serie-a   \n",
      "12            NL1                                   eredivisie   \n",
      "13            RUP                                  russian-cup   \n",
      "14            PO1                           liga-portugal-bwin   \n",
      "15           BESC                             belgian-supercup   \n",
      "16            GB1                               premier-league   \n",
      "17            ELQ                  europa-league-qualifikation   \n",
      "18            CGB                                      efl-cup   \n",
      "19            DKP                              sydbank-pokalen   \n",
      "20           ECLQ  uefa-europa-conference-league-qualifikation   \n",
      "21            FAC                                       fa-cup   \n",
      "22            NLP                              toto-knvb-beker   \n",
      "23           UKRS                          ukrainian-super-cup   \n",
      "24           UKR1                                 premier-liga   \n",
      "25            CDR                                 copa-del-rey   \n",
      "26             CL                        uefa-champions-league   \n",
      "27            GR1                               super-league-1   \n",
      "28            TR1                                    super-lig   \n",
      "29           POCP                                  allianz-cup   \n",
      "30           GBCS                             community-shield   \n",
      "31           KLUB                                 fifa-klub-wm   \n",
      "32             L1                                   bundesliga   \n",
      "33            RU1                                 premier-liga   \n",
      "34            SC1                         scottish-premiership   \n",
      "35            SCI                          supercoppa-italiana   \n",
      "36            BE1                           jupiler-pro-league   \n",
      "37            CLQ          uefa-champions-league-qualifikation   \n",
      "38            DFL                                 dfl-supercup   \n",
      "39            SFA                                      sfa-cup   \n",
      "40           UKRP                                ukrainian-cup   \n",
      "41            DFB                                    dfb-pokal   \n",
      "42           FRCH                        trophee-des-champions   \n",
      "\n",
      "                                           name  \\\n",
      "0                                     italy-cup   \n",
      "1                          johan-cruijff-schaal   \n",
      "2                               kypello-elladas   \n",
      "3                 supertaca-candido-de-oliveira   \n",
      "4                             russian-super-cup   \n",
      "5                                     supercopa   \n",
      "6                                uefa-super-cup   \n",
      "7                                   superligaen   \n",
      "8                                 europa-league   \n",
      "9                                        laliga   \n",
      "10                                      ligue-1   \n",
      "11                                      serie-a   \n",
      "12                                   eredivisie   \n",
      "13                                  russian-cup   \n",
      "14                           liga-portugal-bwin   \n",
      "15                             belgian-supercup   \n",
      "16                               premier-league   \n",
      "17                  europa-league-qualifikation   \n",
      "18                                      efl-cup   \n",
      "19                              sydbank-pokalen   \n",
      "20  uefa-europa-conference-league-qualifikation   \n",
      "21                                       fa-cup   \n",
      "22                              toto-knvb-beker   \n",
      "23                          ukrainian-super-cup   \n",
      "24                                 premier-liga   \n",
      "25                                 copa-del-rey   \n",
      "26                        uefa-champions-league   \n",
      "27                               super-league-1   \n",
      "28                                    super-lig   \n",
      "29                                  allianz-cup   \n",
      "30                             community-shield   \n",
      "31                                 fifa-klub-wm   \n",
      "32                                   bundesliga   \n",
      "33                                 premier-liga   \n",
      "34                         scottish-premiership   \n",
      "35                          supercoppa-italiana   \n",
      "36                           jupiler-pro-league   \n",
      "37          uefa-champions-league-qualifikation   \n",
      "38                                 dfl-supercup   \n",
      "39                                      sfa-cup   \n",
      "40                                ukrainian-cup   \n",
      "41                                    dfb-pokal   \n",
      "42                        trophee-des-champions   \n",
      "\n",
      "                                    sub_type               type  country_id  \\\n",
      "0                               domestic_cup       domestic_cup          75   \n",
      "1                         domestic_super_cup              other         122   \n",
      "2                               domestic_cup       domestic_cup          56   \n",
      "3                         domestic_super_cup              other         136   \n",
      "4                         domestic_super_cup              other         141   \n",
      "5                         domestic_super_cup              other         157   \n",
      "6                             uefa_super_cup              other          -1   \n",
      "7                                 first_tier    domestic_league          39   \n",
      "8                              europa_league  international_cup          -1   \n",
      "9                                 first_tier    domestic_league         157   \n",
      "10                                first_tier    domestic_league          50   \n",
      "11                                first_tier    domestic_league          75   \n",
      "12                                first_tier    domestic_league         122   \n",
      "13                              domestic_cup       domestic_cup         141   \n",
      "14                                first_tier    domestic_league         136   \n",
      "15                        domestic_super_cup              other          19   \n",
      "16                                first_tier    domestic_league         189   \n",
      "17                  europa_league_qualifying  international_cup          -1   \n",
      "18                                league_cup              other         189   \n",
      "19                              domestic_cup       domestic_cup          39   \n",
      "20  uefa_europa_conference_league_qualifiers  international_cup          -1   \n",
      "21                              domestic_cup       domestic_cup         189   \n",
      "22                              domestic_cup       domestic_cup         122   \n",
      "23                        domestic_super_cup              other         177   \n",
      "24                                first_tier    domestic_league         177   \n",
      "25                              domestic_cup       domestic_cup         157   \n",
      "26                     uefa_champions_league  international_cup          -1   \n",
      "27                                first_tier    domestic_league          56   \n",
      "28                                first_tier    domestic_league         174   \n",
      "29                              domestic_cup       domestic_cup         136   \n",
      "30                        domestic_super_cup              other         189   \n",
      "31                       fifa_club_world_cup              other          -1   \n",
      "32                                first_tier    domestic_league          40   \n",
      "33                                first_tier    domestic_league         141   \n",
      "34                                first_tier    domestic_league         190   \n",
      "35                        domestic_super_cup              other          75   \n",
      "36                                first_tier    domestic_league          19   \n",
      "37          uefa_champions_league_qualifying  international_cup          -1   \n",
      "38                        domestic_super_cup              other          40   \n",
      "39                              domestic_cup       domestic_cup         190   \n",
      "40                              domestic_cup       domestic_cup         177   \n",
      "41                              domestic_cup       domestic_cup          40   \n",
      "42                        domestic_super_cup              other          50   \n",
      "\n",
      "   country_name domestic_league_code confederation  \\\n",
      "0         Italy                  IT1        europa   \n",
      "1   Netherlands                  NL1        europa   \n",
      "2        Greece                  GR1        europa   \n",
      "3      Portugal                  PO1        europa   \n",
      "4        Russia                  RU1        europa   \n",
      "5         Spain                  ES1        europa   \n",
      "6       Missing              Missing        europa   \n",
      "7       Denmark                  DK1        europa   \n",
      "8       Missing              Missing        europa   \n",
      "9         Spain                  ES1        europa   \n",
      "10       France                  FR1        europa   \n",
      "11        Italy                  IT1        europa   \n",
      "12  Netherlands                  NL1        europa   \n",
      "13       Russia                  RU1        europa   \n",
      "14     Portugal                  PO1        europa   \n",
      "15      Belgium                  BE1        europa   \n",
      "16      England                  GB1        europa   \n",
      "17      Missing              Missing        europa   \n",
      "18      England                  GB1        europa   \n",
      "19      Denmark                  DK1        europa   \n",
      "20      Missing              Missing        europa   \n",
      "21      England                  GB1        europa   \n",
      "22  Netherlands                  NL1        europa   \n",
      "23      Ukraine                 UKR1        europa   \n",
      "24      Ukraine                 UKR1        europa   \n",
      "25        Spain                  ES1        europa   \n",
      "26      Missing              Missing        europa   \n",
      "27       Greece                  GR1        europa   \n",
      "28       Turkey                  TR1        europa   \n",
      "29     Portugal                  PO1        europa   \n",
      "30      England                  GB1        europa   \n",
      "31      Missing              Missing        europa   \n",
      "32      Germany                   L1        europa   \n",
      "33       Russia                  RU1        europa   \n",
      "34     Scotland                  SC1        europa   \n",
      "35        Italy                  IT1        europa   \n",
      "36      Belgium                  BE1        europa   \n",
      "37      Missing              Missing        europa   \n",
      "38      Germany                   L1        europa   \n",
      "39     Scotland                  SC1        europa   \n",
      "40      Ukraine                 UKR1        europa   \n",
      "41      Germany                   L1        europa   \n",
      "42       France                  FR1        europa   \n",
      "\n",
      "                                                  url  \n",
      "0   https://www.transfermarkt.co.uk/italy-cup/star...  \n",
      "1   https://www.transfermarkt.co.uk/johan-cruijff-...  \n",
      "2   https://www.transfermarkt.co.uk/kypello-ellada...  \n",
      "3   https://www.transfermarkt.co.uk/supertaca-cand...  \n",
      "4   https://www.transfermarkt.co.uk/russian-super-...  \n",
      "5   https://www.transfermarkt.co.uk/supercopa/star...  \n",
      "6   https://www.transfermarkt.co.uk/uefa-super-cup...  \n",
      "7   https://www.transfermarkt.co.uk/superligaen/st...  \n",
      "8   https://www.transfermarkt.co.uk/europa-league/...  \n",
      "9   https://www.transfermarkt.co.uk/laliga/startse...  \n",
      "10  https://www.transfermarkt.co.uk/ligue-1/starts...  \n",
      "11  https://www.transfermarkt.co.uk/serie-a/starts...  \n",
      "12  https://www.transfermarkt.co.uk/eredivisie/sta...  \n",
      "13  https://www.transfermarkt.co.uk/russian-cup/st...  \n",
      "14  https://www.transfermarkt.co.uk/liga-portugal-...  \n",
      "15  https://www.transfermarkt.co.uk/belgian-superc...  \n",
      "16  https://www.transfermarkt.co.uk/premier-league...  \n",
      "17  https://www.transfermarkt.co.uk/europa-league-...  \n",
      "18  https://www.transfermarkt.co.uk/efl-cup/starts...  \n",
      "19  https://www.transfermarkt.co.uk/sydbank-pokale...  \n",
      "20  https://www.transfermarkt.co.uk/uefa-europa-co...  \n",
      "21  https://www.transfermarkt.co.uk/fa-cup/startse...  \n",
      "22  https://www.transfermarkt.co.uk/toto-knvb-beke...  \n",
      "23  https://www.transfermarkt.co.uk/ukrainian-supe...  \n",
      "24  https://www.transfermarkt.co.uk/premier-liga/s...  \n",
      "25  https://www.transfermarkt.co.uk/copa-del-rey/s...  \n",
      "26  https://www.transfermarkt.co.uk/uefa-champions...  \n",
      "27  https://www.transfermarkt.co.uk/super-league-1...  \n",
      "28  https://www.transfermarkt.co.uk/super-lig/star...  \n",
      "29  https://www.transfermarkt.co.uk/allianz-cup/st...  \n",
      "30  https://www.transfermarkt.co.uk/community-shie...  \n",
      "31  https://www.transfermarkt.co.uk/fifa-klub-wm/s...  \n",
      "32  https://www.transfermarkt.co.uk/bundesliga/sta...  \n",
      "33  https://www.transfermarkt.co.uk/premier-liga/s...  \n",
      "34  https://www.transfermarkt.co.uk/scottish-premi...  \n",
      "35  https://www.transfermarkt.co.uk/supercoppa-ita...  \n",
      "36  https://www.transfermarkt.co.uk/jupiler-pro-le...  \n",
      "37  https://www.transfermarkt.co.uk/uefa-champions...  \n",
      "38  https://www.transfermarkt.co.uk/dfl-supercup/s...  \n",
      "39  https://www.transfermarkt.co.uk/sfa-cup/starts...  \n",
      "40  https://www.transfermarkt.co.uk/ukrainian-cup/...  \n",
      "41  https://www.transfermarkt.co.uk/dfb-pokal/star...  \n",
      "42  https://www.transfermarkt.co.uk/trophee-des-ch...  \n"
     ]
    }
   ],
   "execution_count": 45
  },
  {
   "metadata": {},
   "cell_type": "markdown",
   "source": "##Now let's clean the dataset \"clubs\", osserviamo le colonne con valori nulli e andiamo a riempirle con dati generici indicanti appunto la mancanza di dati",
   "id": "ce531735f13e4786"
  },
  {
   "metadata": {
    "ExecuteTime": {
     "end_time": "2024-06-24T11:58:46.165091Z",
     "start_time": "2024-06-24T11:58:46.153525Z"
    }
   },
   "cell_type": "code",
   "source": [
    "dfclub = pd.read_csv('../DataAnalysis/Datasets/clubs.csv')\n",
    "pd.options.display.max_rows = 400\n",
    "print(dfclub.info())"
   ],
   "id": "d2b1925828cc6f52",
   "outputs": [
    {
     "name": "stdout",
     "output_type": "stream",
     "text": [
      "<class 'pandas.core.frame.DataFrame'>\n",
      "RangeIndex: 426 entries, 0 to 425\n",
      "Data columns (total 16 columns):\n",
      " #   Column                   Non-Null Count  Dtype  \n",
      "---  ------                   --------------  -----  \n",
      " 0   club_id                  426 non-null    int64  \n",
      " 1   club_code                426 non-null    object \n",
      " 2   name                     426 non-null    object \n",
      " 3   domestic_competition_id  426 non-null    object \n",
      " 4   total_market_value       0 non-null      float64\n",
      " 5   squad_size               426 non-null    int64  \n",
      " 6   average_age              388 non-null    float64\n",
      " 7   foreigners_number        426 non-null    int64  \n",
      " 8   foreigners_percentage    379 non-null    float64\n",
      " 9   national_team_players    426 non-null    int64  \n",
      " 10  stadium_name             426 non-null    object \n",
      " 11  stadium_seats            426 non-null    int64  \n",
      " 12  net_transfer_record      426 non-null    object \n",
      " 13  coach_name               0 non-null      float64\n",
      " 14  last_season              426 non-null    int64  \n",
      " 15  url                      426 non-null    object \n",
      "dtypes: float64(4), int64(6), object(6)\n",
      "memory usage: 53.4+ KB\n",
      "None\n"
     ]
    }
   ],
   "execution_count": 46
  },
  {
   "metadata": {
    "ExecuteTime": {
     "end_time": "2024-06-24T11:58:46.171818Z",
     "start_time": "2024-06-24T11:58:46.166104Z"
    }
   },
   "cell_type": "code",
   "source": [
    "# Trovo le colonne con celle vuote\n",
    "empty_columns_cells = dfclub.columns[dfclub.isnull().any()]\n",
    "\n",
    "print(\"Colonne con campi vuoti:\")\n",
    "print(empty_columns_cells)  # List of column names\n",
    "\n",
    "# Conto le celle vuote per ogni colonna\n",
    "for col in empty_columns_cells:\n",
    "    conteggio_campi_vuoti_club = dfclub[col].isnull().sum()\n",
    "    print(f\"Colonna '{col}' ha {conteggio_campi_vuoti_club} campi vuoti.\")"
   ],
   "id": "48ff95df82006c2e",
   "outputs": [
    {
     "name": "stdout",
     "output_type": "stream",
     "text": [
      "Colonne con campi vuoti:\n",
      "Index(['total_market_value', 'average_age', 'foreigners_percentage',\n",
      "       'coach_name'],\n",
      "      dtype='object')\n",
      "Colonna 'total_market_value' ha 426 campi vuoti.\n",
      "Colonna 'average_age' ha 38 campi vuoti.\n",
      "Colonna 'foreigners_percentage' ha 47 campi vuoti.\n",
      "Colonna 'coach_name' ha 426 campi vuoti.\n"
     ]
    }
   ],
   "execution_count": 47
  },
  {
   "metadata": {
    "ExecuteTime": {
     "end_time": "2024-06-24T11:58:46.198162Z",
     "start_time": "2024-06-24T11:58:46.172836Z"
    }
   },
   "cell_type": "code",
   "source": [
    "#tramite il metodo fillna riempio i valori vuoti con valori generici, -1 in caso di valori numerici e \"Missing\" per valori testuali\n",
    "dfclub.fillna({\"total_market_value\": -1}, inplace=True)\n",
    "dfclub.fillna({\"average_age\": -1}, inplace=True)\n",
    "dfclub.fillna({\"foreigners_percentage\": -1}, inplace=True)\n",
    "dfclub.fillna({\"coach_name\": \"Missing\"}, inplace=True)\n",
    "print(dfclub.info())\n",
    "print(dfclub)"
   ],
   "id": "41d6b06baf970ef6",
   "outputs": [
    {
     "name": "stdout",
     "output_type": "stream",
     "text": [
      "<class 'pandas.core.frame.DataFrame'>\n",
      "RangeIndex: 426 entries, 0 to 425\n",
      "Data columns (total 16 columns):\n",
      " #   Column                   Non-Null Count  Dtype  \n",
      "---  ------                   --------------  -----  \n",
      " 0   club_id                  426 non-null    int64  \n",
      " 1   club_code                426 non-null    object \n",
      " 2   name                     426 non-null    object \n",
      " 3   domestic_competition_id  426 non-null    object \n",
      " 4   total_market_value       426 non-null    float64\n",
      " 5   squad_size               426 non-null    int64  \n",
      " 6   average_age              426 non-null    float64\n",
      " 7   foreigners_number        426 non-null    int64  \n",
      " 8   foreigners_percentage    426 non-null    float64\n",
      " 9   national_team_players    426 non-null    int64  \n",
      " 10  stadium_name             426 non-null    object \n",
      " 11  stadium_seats            426 non-null    int64  \n",
      " 12  net_transfer_record      426 non-null    object \n",
      " 13  coach_name               426 non-null    object \n",
      " 14  last_season              426 non-null    int64  \n",
      " 15  url                      426 non-null    object \n",
      "dtypes: float64(3), int64(6), object(7)\n",
      "memory usage: 53.4+ KB\n",
      "None\n",
      "     club_id             club_code                               name  \\\n",
      "0        105       sv-darmstadt-98   Sportverein Darmstadt 1898 e. V.   \n",
      "1      11127     ural-ekaterinburg              FK Ural Yekaterinburg   \n",
      "2        114     besiktas-istanbul          Beşiktaş Jimnastik Kulübü   \n",
      "3         12                as-rom         Associazione Sportiva Roma   \n",
      "4        148     tottenham-hotspur    Tottenham Hotspur Football Club   \n",
      "..       ...                   ...                                ...   \n",
      "421    68608      cf-os-belenenses                   CF Os Belenenses   \n",
      "422      724           fc-volendam             Football Club Volendam   \n",
      "423      800      atalanta-bergamo  Atalanta Bergamasca Calcio S.p.a.   \n",
      "424      979         moreirense-fc           Moreirense Futebol Clube   \n",
      "425      984  west-bromwich-albion               West Bromwich Albion   \n",
      "\n",
      "    domestic_competition_id  total_market_value  squad_size  average_age  \\\n",
      "0                        L1                -1.0          30         26.4   \n",
      "1                       RU1                -1.0          25         28.2   \n",
      "2                       TR1                -1.0          32         27.4   \n",
      "3                       IT1                -1.0          26         27.4   \n",
      "4                       GB1                -1.0          29         26.2   \n",
      "..                      ...                 ...         ...          ...   \n",
      "421                     PO1                -1.0          30         25.7   \n",
      "422                     NL1                -1.0          29         22.8   \n",
      "423                     IT1                -1.0          25         27.2   \n",
      "424                     PO1                -1.0          26         26.0   \n",
      "425                     GB1                -1.0          25         27.8   \n",
      "\n",
      "     foreigners_number  foreigners_percentage  national_team_players  \\\n",
      "0                   11                   36.7                      1   \n",
      "1                   13                   52.0                      5   \n",
      "2                   16                   50.0                     13   \n",
      "3                   17                   65.4                     17   \n",
      "4                   21                   72.4                     22   \n",
      "..                 ...                    ...                    ...   \n",
      "421                  5                   16.7                      0   \n",
      "422                 14                   48.3                      3   \n",
      "423                 17                   68.0                     15   \n",
      "424                 17                   65.4                      2   \n",
      "425                  8                   32.0                      4   \n",
      "\n",
      "                         stadium_name  stadium_seats net_transfer_record  \\\n",
      "0      Merck-Stadion am Böllenfalltor          17810             €-1.60m   \n",
      "1                 Yekaterinburg Arena          23000              €-770k   \n",
      "2                     Tüpraş Stadyumu          42590            €-14.50m   \n",
      "3                    Olimpico di Roma          73261            +€65.20m   \n",
      "4           Tottenham Hotspur Stadium          62062           €-130.40m   \n",
      "..                                ...            ...                 ...   \n",
      "421                Estádio do Restelo          19980                 +-0   \n",
      "422                      Kras Stadion           7384             +€1.80m   \n",
      "423                    Gewiss Stadium          21747            +€87.00m   \n",
      "424  Estádio C. J. de Almeida Freitas           6153             €-2.05m   \n",
      "425                     The Hawthorns          26850             €-1.35m   \n",
      "\n",
      "    coach_name  last_season                                                url  \n",
      "0      Missing         2023  https://www.transfermarkt.co.uk/sv-darmstadt-9...  \n",
      "1      Missing         2023  https://www.transfermarkt.co.uk/ural-ekaterinb...  \n",
      "2      Missing         2023  https://www.transfermarkt.co.uk/besiktas-istan...  \n",
      "3      Missing         2023  https://www.transfermarkt.co.uk/as-rom/startse...  \n",
      "4      Missing         2023  https://www.transfermarkt.co.uk/tottenham-hots...  \n",
      "..         ...          ...                                                ...  \n",
      "421    Missing         2017  https://www.transfermarkt.co.uk/cf-os-belenens...  \n",
      "422    Missing         2023  https://www.transfermarkt.co.uk/fc-volendam/st...  \n",
      "423    Missing         2023  https://www.transfermarkt.co.uk/atalanta-berga...  \n",
      "424    Missing         2023  https://www.transfermarkt.co.uk/moreirense-fc/...  \n",
      "425    Missing         2020  https://www.transfermarkt.co.uk/west-bromwich-...  \n",
      "\n",
      "[426 rows x 16 columns]\n"
     ]
    }
   ],
   "execution_count": 48
  }
 ],
 "metadata": {
  "kernelspec": {
   "display_name": "Python 3",
   "language": "python",
   "name": "python3"
  },
  "language_info": {
   "codemirror_mode": {
    "name": "ipython",
    "version": 2
   },
   "file_extension": ".py",
   "mimetype": "text/x-python",
   "name": "python",
   "nbconvert_exporter": "python",
   "pygments_lexer": "ipython2",
   "version": "2.7.6"
  }
 },
 "nbformat": 4,
 "nbformat_minor": 5
}
