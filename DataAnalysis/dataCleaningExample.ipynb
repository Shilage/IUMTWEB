{
 "cells": [
  {
   "metadata": {},
   "cell_type": "markdown",
   "source": [
    "#Esempio di cleaning dei dati dentro a un dataset tramite jupyter notebook\n",
    "##Librerie utilizzate"
   ],
   "id": "77b5b25df889690b"
  },
  {
   "metadata": {
    "ExecuteTime": {
     "end_time": "2024-06-23T17:38:43.136114Z",
     "start_time": "2024-06-23T17:38:42.082342Z"
    }
   },
   "cell_type": "code",
   "source": [
    "import pandas as pd\n",
    "import numpy as np"
   ],
   "id": "1d249ecba62eed2d",
   "outputs": [],
   "execution_count": 1
  },
  {
   "metadata": {},
   "cell_type": "markdown",
   "source": "##Importiamo, per esempio, il dataset players.csv",
   "id": "1aa4f7de055b3d93"
  },
  {
   "metadata": {
    "ExecuteTime": {
     "end_time": "2024-06-23T17:39:54.114684Z",
     "start_time": "2024-06-23T17:39:53.843574Z"
    }
   },
   "cell_type": "code",
   "source": [
    "df = pd.read_csv('../DataAnalysis/Datasets/players.csv')\n",
    "pd.options.display.max_rows = 400\n",
    "print(df.info())"
   ],
   "id": "92aa0736882f9458",
   "outputs": [
    {
     "name": "stdout",
     "output_type": "stream",
     "text": [
      "<class 'pandas.core.frame.DataFrame'>\n",
      "RangeIndex: 30302 entries, 0 to 30301\n",
      "Data columns (total 23 columns):\n",
      " #   Column                                Non-Null Count  Dtype  \n",
      "---  ------                                --------------  -----  \n",
      " 0   player_id                             30302 non-null  int64  \n",
      " 1   first_name                            28337 non-null  object \n",
      " 2   last_name                             30302 non-null  object \n",
      " 3   name                                  30302 non-null  object \n",
      " 4   last_season                           30302 non-null  int64  \n",
      " 5   current_club_id                       30302 non-null  int64  \n",
      " 6   player_code                           30302 non-null  object \n",
      " 7   country_of_birth                      27613 non-null  object \n",
      " 8   city_of_birth                         28099 non-null  object \n",
      " 9   country_of_citizenship                29759 non-null  object \n",
      " 10  date_of_birth                         30255 non-null  object \n",
      " 11  sub_position                          30130 non-null  object \n",
      " 12  position                              30302 non-null  object \n",
      " 13  foot                                  27913 non-null  object \n",
      " 14  height_in_cm                          28204 non-null  float64\n",
      " 15  market_value_in_eur                   19383 non-null  float64\n",
      " 16  highest_market_value_in_eur           28981 non-null  float64\n",
      " 17  contract_expiration_date              18835 non-null  object \n",
      " 18  agent_name                            14941 non-null  object \n",
      " 19  image_url                             30302 non-null  object \n",
      " 20  url                                   30302 non-null  object \n",
      " 21  current_club_domestic_competition_id  30302 non-null  object \n",
      " 22  current_club_name                     30302 non-null  object \n",
      "dtypes: float64(3), int64(3), object(17)\n",
      "memory usage: 5.3+ MB\n",
      "None\n"
     ]
    }
   ],
   "execution_count": 2
  },
  {
   "metadata": {},
   "cell_type": "markdown",
   "source": "##Osserviamo adesso quali colonne contengono campi vuoti al loro interno e la quantità di tali campi",
   "id": "50feedb1a6220684"
  },
  {
   "metadata": {
    "ExecuteTime": {
     "end_time": "2024-06-23T17:40:29.697523Z",
     "start_time": "2024-06-23T17:40:29.669363Z"
    }
   },
   "cell_type": "code",
   "source": [
    "colonne_con_campi_vuoti = df.columns[df.isnull().any()]\n",
    "print(\"Colonne con campi vuoti:\")\n",
    "print(colonne_con_campi_vuoti)"
   ],
   "id": "bb7c9083cf81f7e1",
   "outputs": [
    {
     "name": "stdout",
     "output_type": "stream",
     "text": [
      "Colonne con campi vuoti:\n",
      "Index(['first_name', 'country_of_birth', 'city_of_birth',\n",
      "       'country_of_citizenship', 'date_of_birth', 'sub_position', 'foot',\n",
      "       'height_in_cm', 'market_value_in_eur', 'highest_market_value_in_eur',\n",
      "       'contract_expiration_date', 'agent_name'],\n",
      "      dtype='object')\n"
     ]
    }
   ],
   "execution_count": 3
  },
  {
   "metadata": {
    "ExecuteTime": {
     "end_time": "2024-06-23T17:40:53.146023Z",
     "start_time": "2024-06-23T17:40:53.126896Z"
    }
   },
   "cell_type": "code",
   "source": [
    "for colonna in colonne_con_campi_vuoti:\n",
    "    conteggio_campi_vuoti = df[colonna].isnull().sum()\n",
    "    print(f\"Colonna '{colonna}' ha {conteggio_campi_vuoti} campi vuoti.\")"
   ],
   "id": "68fc3a70181acc08",
   "outputs": [
    {
     "name": "stdout",
     "output_type": "stream",
     "text": [
      "Colonna 'first_name' ha 1965 campi vuoti.\n",
      "Colonna 'country_of_birth' ha 2689 campi vuoti.\n",
      "Colonna 'city_of_birth' ha 2203 campi vuoti.\n",
      "Colonna 'country_of_citizenship' ha 543 campi vuoti.\n",
      "Colonna 'date_of_birth' ha 47 campi vuoti.\n",
      "Colonna 'sub_position' ha 172 campi vuoti.\n",
      "Colonna 'foot' ha 2389 campi vuoti.\n",
      "Colonna 'height_in_cm' ha 2098 campi vuoti.\n",
      "Colonna 'market_value_in_eur' ha 10919 campi vuoti.\n",
      "Colonna 'highest_market_value_in_eur' ha 1321 campi vuoti.\n",
      "Colonna 'contract_expiration_date' ha 11467 campi vuoti.\n",
      "Colonna 'agent_name' ha 15361 campi vuoti.\n"
     ]
    }
   ],
   "execution_count": 4
  },
  {
   "metadata": {},
   "cell_type": "markdown",
   "source": "##Cambiamo adesso i valori nulli con i corretti valori di default",
   "id": "286b31f184e84f57"
  },
  {
   "metadata": {
    "ExecuteTime": {
     "end_time": "2024-06-23T17:45:08.302193Z",
     "start_time": "2024-06-23T17:45:08.248855Z"
    }
   },
   "cell_type": "code",
   "source": [
    "df.fillna({\"foot\": \"null\"}, inplace=True)\n",
    "df.fillna({\"market_value_in_eur\": 0}, inplace=True)\n",
    "df.fillna({\"sub_position\": \"Missing\"}, inplace=True)\n",
    "df.fillna({\"country_of_birth\": \"Missing\"}, inplace=True)\n",
    "df.fillna({\"city_of_birth\": \"Missing\"}, inplace=True)\n",
    "df.fillna({\"country_of_citizenship\": \"Missing\"}, inplace=True)\n",
    "df.fillna({\"height_in_cm\": 0}, inplace=True)\n",
    "df.fillna({\"market_value_in_eur\": 0}, inplace=True)\n",
    "df.fillna({\"highest_market_value_in_eur\": 0}, inplace=True)\n",
    "df.fillna({\"agent_name\": \"Missing\"}, inplace=True)\n",
    "print(df)"
   ],
   "id": "fe55812e847f9b82",
   "outputs": [
    {
     "name": "stdout",
     "output_type": "stream",
     "text": [
      "       player_id first_name    last_name                name  last_season  \\\n",
      "0            598       Timo   Hildebrand     Timo Hildebrand         2014   \n",
      "1            670     Martin       Petrov       Martin Petrov         2012   \n",
      "2           1323     Martin      Amedick      Martin Amedick         2012   \n",
      "3           3195   Jermaine      Pennant    Jermaine Pennant         2013   \n",
      "4           3259     Damien         Duff         Damien Duff         2013   \n",
      "...          ...        ...          ...                 ...          ...   \n",
      "30297     371851       Jaka        Bijol          Jaka Bijol         2023   \n",
      "30298     537171     Semuel  Pizzignacco  Semuel Pizzignacco         2018   \n",
      "30299     586756      Festy      Ebosele       Festy Ebosele         2023   \n",
      "30300     704692     Nicolò      Cocetta      Nicolò Cocetta         2022   \n",
      "30301     925584       Axel     Guessand       Axel Guessand         2023   \n",
      "\n",
      "       current_club_id         player_code country_of_birth  \\\n",
      "0                   24     timo-hildebrand          Germany   \n",
      "1                  714       martin-petrov         Bulgaria   \n",
      "2                   24      martin-amedick          Germany   \n",
      "3                  512    jermaine-pennant          England   \n",
      "4                  931         damien-duff          Ireland   \n",
      "...                ...                 ...              ...   \n",
      "30297              410          jaka-bijol         Slovenia   \n",
      "30298              410  semuel-pizzignacco            Italy   \n",
      "30299              410       festy-ebosele          Ireland   \n",
      "30300              410      nicolo-cocetta            Italy   \n",
      "30301              410       axel-guessand           France   \n",
      "\n",
      "                city_of_birth country_of_citizenship  ...   foot height_in_cm  \\\n",
      "0                       Worms                Germany  ...   both          0.0   \n",
      "1                      Vratsa               Bulgaria  ...   both          0.0   \n",
      "2                   Paderborn                Germany  ...   both          0.0   \n",
      "3                  Nottingham                England  ...  right        173.0   \n",
      "4                  Ballyboden                Ireland  ...   left        177.0   \n",
      "...                       ...                    ...  ...    ...          ...   \n",
      "30297                Vuzenica               Slovenia  ...  right        190.0   \n",
      "30298              Monfalcone                  Italy  ...  right        188.0   \n",
      "30299    Enniscorthy, Wexford                Ireland  ...  right        180.0   \n",
      "30300  San Daniele del Friuli                  Italy  ...   both          0.0   \n",
      "30301            Schiltigheim                 France  ...   left        184.0   \n",
      "\n",
      "      market_value_in_eur highest_market_value_in_eur  \\\n",
      "0                     0.0                  10000000.0   \n",
      "1                     0.0                  12000000.0   \n",
      "2                     0.0                   2750000.0   \n",
      "3                     0.0                  10500000.0   \n",
      "4                     0.0                  17000000.0   \n",
      "...                   ...                         ...   \n",
      "30297          10000000.0                  10000000.0   \n",
      "30298            325000.0                    350000.0   \n",
      "30299           4500000.0                   4500000.0   \n",
      "30300             75000.0                     75000.0   \n",
      "30301            250000.0                    300000.0   \n",
      "\n",
      "       contract_expiration_date         agent_name  \\\n",
      "0                           NaN            Missing   \n",
      "1                           NaN                IFM   \n",
      "2                           NaN            Missing   \n",
      "3                           NaN         Andrew Sky   \n",
      "4                           NaN            Missing   \n",
      "...                         ...                ...   \n",
      "30297       2027-06-30 00:00:00          MSC GROUP   \n",
      "30298       2025-06-30 00:00:00            Missing   \n",
      "30299       2027-06-30 00:00:00  The Kulture Group   \n",
      "30300       2023-06-30 00:00:00            Missing   \n",
      "30301       2027-06-30 00:00:00        CAA Stellar   \n",
      "\n",
      "                                               image_url  \\\n",
      "0      https://img.a.transfermarkt.technology/portrai...   \n",
      "1      https://img.a.transfermarkt.technology/portrai...   \n",
      "2      https://img.a.transfermarkt.technology/portrai...   \n",
      "3      https://img.a.transfermarkt.technology/portrai...   \n",
      "4      https://img.a.transfermarkt.technology/portrai...   \n",
      "...                                                  ...   \n",
      "30297  https://img.a.transfermarkt.technology/portrai...   \n",
      "30298  https://img.a.transfermarkt.technology/portrai...   \n",
      "30299  https://img.a.transfermarkt.technology/portrai...   \n",
      "30300  https://img.a.transfermarkt.technology/portrai...   \n",
      "30301  https://img.a.transfermarkt.technology/portrai...   \n",
      "\n",
      "                                                     url  \\\n",
      "0      https://www.transfermarkt.co.uk/timo-hildebran...   \n",
      "1      https://www.transfermarkt.co.uk/martin-petrov/...   \n",
      "2      https://www.transfermarkt.co.uk/martin-amedick...   \n",
      "3      https://www.transfermarkt.co.uk/jermaine-penna...   \n",
      "4      https://www.transfermarkt.co.uk/damien-duff/pr...   \n",
      "...                                                  ...   \n",
      "30297  https://www.transfermarkt.co.uk/jaka-bijol/pro...   \n",
      "30298  https://www.transfermarkt.co.uk/semuel-pizzign...   \n",
      "30299  https://www.transfermarkt.co.uk/festy-ebosele/...   \n",
      "30300  https://www.transfermarkt.co.uk/nicolo-cocetta...   \n",
      "30301  https://www.transfermarkt.co.uk/axel-guessand/...   \n",
      "\n",
      "      current_club_domestic_competition_id       current_club_name  \n",
      "0                                       L1     Eintracht Frankfurt  \n",
      "1                                      ES1  RCD Espanyol Barcelona  \n",
      "2                                       L1     Eintracht Frankfurt  \n",
      "3                                      GB1              Stoke City  \n",
      "4                                      GB1               Fulham FC  \n",
      "...                                    ...                     ...  \n",
      "30297                                  IT1          Udinese Calcio  \n",
      "30298                                  IT1          Udinese Calcio  \n",
      "30299                                  IT1          Udinese Calcio  \n",
      "30300                                  IT1          Udinese Calcio  \n",
      "30301                                  IT1          Udinese Calcio  \n",
      "\n",
      "[30302 rows x 23 columns]\n"
     ]
    }
   ],
   "execution_count": 8
  },
  {
   "metadata": {},
   "cell_type": "markdown",
   "source": "##Cambiamo il formato della data di \"contract_expiration_date\" e \"date_of_birth\" rimpiazzando i valori \"null\" con la data di default \"1900-01-01\"",
   "id": "84b42c2e0192c9e3"
  },
  {
   "metadata": {
    "ExecuteTime": {
     "end_time": "2024-06-23T17:49:02.231281Z",
     "start_time": "2024-06-23T17:49:02.150999Z"
    }
   },
   "cell_type": "code",
   "source": [
    "df.fillna({\"contract_expiration_date\": \"1900-01-01 00:00:00\"}, inplace=True)\n",
    "df[\"contract_expiration_date\"] = pd.to_datetime(df[\"contract_expiration_date\"]).dt.normalize()\n",
    "\n",
    "df.fillna({\"date_of_birth\": \"1900-01-01 00:00:00\"}, inplace=True)\n",
    "df[\"date_of_birth\"] = pd.to_datetime(df[\"date_of_birth\"], format = 'mixed').dt.normalize()\n",
    "\n",
    "print(df.info())"
   ],
   "id": "ccbc7ec847c92719",
   "outputs": [
    {
     "name": "stdout",
     "output_type": "stream",
     "text": [
      "<class 'pandas.core.frame.DataFrame'>\n",
      "RangeIndex: 30302 entries, 0 to 30301\n",
      "Data columns (total 23 columns):\n",
      " #   Column                                Non-Null Count  Dtype         \n",
      "---  ------                                --------------  -----         \n",
      " 0   player_id                             30302 non-null  int64         \n",
      " 1   first_name                            28337 non-null  object        \n",
      " 2   last_name                             30302 non-null  object        \n",
      " 3   name                                  30302 non-null  object        \n",
      " 4   last_season                           30302 non-null  int64         \n",
      " 5   current_club_id                       30302 non-null  int64         \n",
      " 6   player_code                           30302 non-null  object        \n",
      " 7   country_of_birth                      30302 non-null  object        \n",
      " 8   city_of_birth                         30302 non-null  object        \n",
      " 9   country_of_citizenship                30302 non-null  object        \n",
      " 10  date_of_birth                         30302 non-null  datetime64[ns]\n",
      " 11  sub_position                          30302 non-null  object        \n",
      " 12  position                              30302 non-null  object        \n",
      " 13  foot                                  30302 non-null  object        \n",
      " 14  height_in_cm                          30302 non-null  float64       \n",
      " 15  market_value_in_eur                   30302 non-null  float64       \n",
      " 16  highest_market_value_in_eur           30302 non-null  float64       \n",
      " 17  contract_expiration_date              30302 non-null  datetime64[ns]\n",
      " 18  agent_name                            30302 non-null  object        \n",
      " 19  image_url                             30302 non-null  object        \n",
      " 20  url                                   30302 non-null  object        \n",
      " 21  current_club_domestic_competition_id  30302 non-null  object        \n",
      " 22  current_club_name                     30302 non-null  object        \n",
      "dtypes: datetime64[ns](2), float64(3), int64(3), object(15)\n",
      "memory usage: 5.3+ MB\n",
      "None\n"
     ]
    }
   ],
   "execution_count": 13
  },
  {
   "metadata": {},
   "cell_type": "markdown",
   "source": "##Convertiamo tipi di oggetti nei relativi tipi corretti",
   "id": "37c5f5f5e9027813"
  },
  {
   "metadata": {
    "ExecuteTime": {
     "end_time": "2024-06-23T17:50:10.292466Z",
     "start_time": "2024-06-23T17:50:10.260602Z"
    }
   },
   "cell_type": "code",
   "source": [
    "df[\"market_value_in_eur\"] = df[\"market_value_in_eur\"].astype(float)\n",
    "df[\"first_name\"] = df[\"first_name\"].astype(str)\n",
    "print(df.info())"
   ],
   "id": "953a50e293f396a8",
   "outputs": [
    {
     "name": "stdout",
     "output_type": "stream",
     "text": [
      "<class 'pandas.core.frame.DataFrame'>\n",
      "RangeIndex: 30302 entries, 0 to 30301\n",
      "Data columns (total 23 columns):\n",
      " #   Column                                Non-Null Count  Dtype         \n",
      "---  ------                                --------------  -----         \n",
      " 0   player_id                             30302 non-null  int64         \n",
      " 1   first_name                            30302 non-null  object        \n",
      " 2   last_name                             30302 non-null  object        \n",
      " 3   name                                  30302 non-null  object        \n",
      " 4   last_season                           30302 non-null  int64         \n",
      " 5   current_club_id                       30302 non-null  int64         \n",
      " 6   player_code                           30302 non-null  object        \n",
      " 7   country_of_birth                      30302 non-null  object        \n",
      " 8   city_of_birth                         30302 non-null  object        \n",
      " 9   country_of_citizenship                30302 non-null  object        \n",
      " 10  date_of_birth                         30302 non-null  datetime64[ns]\n",
      " 11  sub_position                          30302 non-null  object        \n",
      " 12  position                              30302 non-null  object        \n",
      " 13  foot                                  30302 non-null  object        \n",
      " 14  height_in_cm                          30302 non-null  float64       \n",
      " 15  market_value_in_eur                   30302 non-null  float64       \n",
      " 16  highest_market_value_in_eur           30302 non-null  float64       \n",
      " 17  contract_expiration_date              30302 non-null  datetime64[ns]\n",
      " 18  agent_name                            30302 non-null  object        \n",
      " 19  image_url                             30302 non-null  object        \n",
      " 20  url                                   30302 non-null  object        \n",
      " 21  current_club_domestic_competition_id  30302 non-null  object        \n",
      " 22  current_club_name                     30302 non-null  object        \n",
      "dtypes: datetime64[ns](2), float64(3), int64(3), object(15)\n",
      "memory usage: 5.3+ MB\n",
      "None\n"
     ]
    }
   ],
   "execution_count": 14
  },
  {
   "metadata": {},
   "cell_type": "code",
   "outputs": [],
   "execution_count": null,
   "source": "",
   "id": "191df173edc3e3e1"
  }
 ],
 "metadata": {
  "kernelspec": {
   "display_name": "Python 3",
   "language": "python",
   "name": "python3"
  },
  "language_info": {
   "codemirror_mode": {
    "name": "ipython",
    "version": 2
   },
   "file_extension": ".py",
   "mimetype": "text/x-python",
   "name": "python",
   "nbconvert_exporter": "python",
   "pygments_lexer": "ipython2",
   "version": "2.7.6"
  }
 },
 "nbformat": 4,
 "nbformat_minor": 5
}
